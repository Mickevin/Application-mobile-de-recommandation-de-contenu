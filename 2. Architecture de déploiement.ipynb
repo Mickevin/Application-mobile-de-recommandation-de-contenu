{
 "cells": [
  {
   "cell_type": "markdown",
   "id": "39b7892e",
   "metadata": {},
   "source": [
    "# Principe de fonctionnement du module My_Recommandation\n",
    "\n",
    "<img src='utiles/Entretien du modèle.jpg'>"
   ]
  },
  {
   "cell_type": "markdown",
   "id": "4821b332",
   "metadata": {},
   "source": [
    "# Import des fichier depuis Azure Blob storage\n",
    "\n",
    "<img src='utiles/Import des fichiers.jpg'>"
   ]
  },
  {
   "cell_type": "code",
   "execution_count": 1,
   "id": "43790f28",
   "metadata": {},
   "outputs": [
    {
     "name": "stdout",
     "output_type": "stream",
     "text": [
      "Downloading UI/utiles/sparse.npz\n",
      "Downloaded UI/utiles/sparse.npz, 1 files out of an estimated total of 5\n",
      "Downloading UI/utiles/df_article.csv\n",
      "Downloaded UI/utiles/df_article.csv, 2 files out of an estimated total of 5\n",
      "Downloading UI/utiles/df_user.npy\n",
      "Downloaded UI/utiles/df_user.npy, 3 files out of an estimated total of 5\n",
      "Downloading UI/utiles/df_user.csv\n",
      "Downloaded UI/utiles/df_user.csv, 4 files out of an estimated total of 5\n",
      "Downloading UI/utiles/model.pkl\n",
      "Downloaded UI/utiles/model.pkl, 5 files out of an estimated total of 5\n"
     ]
    }
   ],
   "source": [
    "from class_ import *\n",
    "recommadantion = My_Recommandation()"
   ]
  },
  {
   "cell_type": "markdown",
   "id": "35092030",
   "metadata": {},
   "source": [
    "# Gestion des fichiers\n",
    "\n",
    "<img src='utiles/Gestion des fichiers.jpg'>\n",
    "\n",
    "## Création de la matrice d'entrainement"
   ]
  },
  {
   "cell_type": "code",
   "execution_count": 3,
   "id": "2324e1da",
   "metadata": {},
   "outputs": [
    {
     "name": "stdout",
     "output_type": "stream",
     "text": [
      "Parsing...\n",
      "Save !\n",
      "Train\n"
     ]
    },
    {
     "name": "stderr",
     "output_type": "stream",
     "text": [
      "/Users/kevinduranty/app/lib/python3.7/site-packages/implicit/utils.py:27: UserWarning: OpenBLAS detected. Its highly recommend to set the environment variable 'export OPENBLAS_NUM_THREADS=1' to disable its internal multithreading\n",
      "  \"OpenBLAS detected. Its highly recommend to set the environment variable \"\n"
     ]
    },
    {
     "data": {
      "application/vnd.jupyter.widget-view+json": {
       "model_id": "1b2ed6502f624c8a98b96eb479397d79",
       "version_major": 2,
       "version_minor": 0
      },
      "text/plain": [
       "  0%|          | 0/200 [00:00<?, ?it/s]"
      ]
     },
     "metadata": {},
     "output_type": "display_data"
    },
    {
     "name": "stdout",
     "output_type": "stream",
     "text": [
      "model trained successfuly\n",
      "model save !\n"
     ]
    }
   ],
   "source": [
    "%%time\n",
    "recommadantion.sparse(500, True)\n",
    "#recommadantion.train_model()"
   ]
  },
  {
   "cell_type": "markdown",
   "id": "bbb7ae1c",
   "metadata": {},
   "source": [
    "## Ajout d'un nouvel article"
   ]
  },
  {
   "cell_type": "code",
   "execution_count": 3,
   "id": "23e0009d",
   "metadata": {},
   "outputs": [
    {
     "name": "stdout",
     "output_type": "stream",
     "text": [
      "Article added, file saved !\n"
     ]
    }
   ],
   "source": [
    "recommadantion.add_article(600000, 600)"
   ]
  },
  {
   "cell_type": "code",
   "execution_count": 4,
   "id": "69644120",
   "metadata": {},
   "outputs": [
    {
     "data": {
      "text/html": [
       "<div>\n",
       "<style scoped>\n",
       "    .dataframe tbody tr th:only-of-type {\n",
       "        vertical-align: middle;\n",
       "    }\n",
       "\n",
       "    .dataframe tbody tr th {\n",
       "        vertical-align: top;\n",
       "    }\n",
       "\n",
       "    .dataframe thead th {\n",
       "        text-align: right;\n",
       "    }\n",
       "</style>\n",
       "<table border=\"1\" class=\"dataframe\">\n",
       "  <thead>\n",
       "    <tr style=\"text-align: right;\">\n",
       "      <th></th>\n",
       "      <th>Unnamed: 0</th>\n",
       "      <th>article_id</th>\n",
       "      <th>category_id</th>\n",
       "    </tr>\n",
       "  </thead>\n",
       "  <tbody>\n",
       "    <tr>\n",
       "      <th>0</th>\n",
       "      <td>0</td>\n",
       "      <td>0</td>\n",
       "      <td>0</td>\n",
       "    </tr>\n",
       "    <tr>\n",
       "      <th>1</th>\n",
       "      <td>1</td>\n",
       "      <td>1</td>\n",
       "      <td>1</td>\n",
       "    </tr>\n",
       "    <tr>\n",
       "      <th>2</th>\n",
       "      <td>2</td>\n",
       "      <td>2</td>\n",
       "      <td>1</td>\n",
       "    </tr>\n",
       "    <tr>\n",
       "      <th>3</th>\n",
       "      <td>3</td>\n",
       "      <td>3</td>\n",
       "      <td>1</td>\n",
       "    </tr>\n",
       "    <tr>\n",
       "      <th>4</th>\n",
       "      <td>4</td>\n",
       "      <td>4</td>\n",
       "      <td>1</td>\n",
       "    </tr>\n",
       "    <tr>\n",
       "      <th>...</th>\n",
       "      <td>...</td>\n",
       "      <td>...</td>\n",
       "      <td>...</td>\n",
       "    </tr>\n",
       "    <tr>\n",
       "      <th>364043</th>\n",
       "      <td>364043</td>\n",
       "      <td>364043</td>\n",
       "      <td>460</td>\n",
       "    </tr>\n",
       "    <tr>\n",
       "      <th>364044</th>\n",
       "      <td>364044</td>\n",
       "      <td>364044</td>\n",
       "      <td>460</td>\n",
       "    </tr>\n",
       "    <tr>\n",
       "      <th>364045</th>\n",
       "      <td>364045</td>\n",
       "      <td>364045</td>\n",
       "      <td>460</td>\n",
       "    </tr>\n",
       "    <tr>\n",
       "      <th>364046</th>\n",
       "      <td>364046</td>\n",
       "      <td>364046</td>\n",
       "      <td>460</td>\n",
       "    </tr>\n",
       "    <tr>\n",
       "      <th>364047</th>\n",
       "      <td>600000</td>\n",
       "      <td>600000</td>\n",
       "      <td>600</td>\n",
       "    </tr>\n",
       "  </tbody>\n",
       "</table>\n",
       "<p>364048 rows × 3 columns</p>\n",
       "</div>"
      ],
      "text/plain": [
       "        Unnamed: 0  article_id  category_id\n",
       "0                0           0            0\n",
       "1                1           1            1\n",
       "2                2           2            1\n",
       "3                3           3            1\n",
       "4                4           4            1\n",
       "...            ...         ...          ...\n",
       "364043      364043      364043          460\n",
       "364044      364044      364044          460\n",
       "364045      364045      364045          460\n",
       "364046      364046      364046          460\n",
       "364047      600000      600000          600\n",
       "\n",
       "[364048 rows x 3 columns]"
      ]
     },
     "execution_count": 4,
     "metadata": {},
     "output_type": "execute_result"
    }
   ],
   "source": [
    "pd.read_csv('UI/utiles/df_article.csv')"
   ]
  },
  {
   "cell_type": "markdown",
   "id": "295f3681",
   "metadata": {},
   "source": [
    "## Ajout d'un nouvel utilisateur"
   ]
  },
  {
   "cell_type": "code",
   "execution_count": 6,
   "id": "130d8ca5",
   "metadata": {},
   "outputs": [
    {
     "name": "stdout",
     "output_type": "stream",
     "text": [
      "User added, file saved !\n"
     ]
    }
   ],
   "source": [
    "recommadantion.add_user(4000000, [1,6,90], 8)"
   ]
  },
  {
   "cell_type": "code",
   "execution_count": 7,
   "id": "7d66be7c",
   "metadata": {},
   "outputs": [
    {
     "data": {
      "text/html": [
       "<div>\n",
       "<style scoped>\n",
       "    .dataframe tbody tr th:only-of-type {\n",
       "        vertical-align: middle;\n",
       "    }\n",
       "\n",
       "    .dataframe tbody tr th {\n",
       "        vertical-align: top;\n",
       "    }\n",
       "\n",
       "    .dataframe thead th {\n",
       "        text-align: right;\n",
       "    }\n",
       "</style>\n",
       "<table border=\"1\" class=\"dataframe\">\n",
       "  <thead>\n",
       "    <tr style=\"text-align: right;\">\n",
       "      <th></th>\n",
       "      <th>LIST_click_article_id</th>\n",
       "      <th>n_click</th>\n",
       "    </tr>\n",
       "  </thead>\n",
       "  <tbody>\n",
       "    <tr>\n",
       "      <th>0</th>\n",
       "      <td>[157541, 68866, 96755, 313996, 160158, 233470,...</td>\n",
       "      <td>16</td>\n",
       "    </tr>\n",
       "    <tr>\n",
       "      <th>1</th>\n",
       "      <td>[327984, 183176, 235840, 96663, 59758, 160474,...</td>\n",
       "      <td>24</td>\n",
       "    </tr>\n",
       "    <tr>\n",
       "      <th>2</th>\n",
       "      <td>[119592, 30970, 30760, 209122]</td>\n",
       "      <td>8</td>\n",
       "    </tr>\n",
       "    <tr>\n",
       "      <th>3</th>\n",
       "      <td>[236444, 234318, 233688, 237452, 235745, 12096...</td>\n",
       "      <td>53</td>\n",
       "    </tr>\n",
       "    <tr>\n",
       "      <th>4</th>\n",
       "      <td>[336499, 271261, 48915, 44488, 195887, 195084,...</td>\n",
       "      <td>17</td>\n",
       "    </tr>\n",
       "    <tr>\n",
       "      <th>...</th>\n",
       "      <td>...</td>\n",
       "      <td>...</td>\n",
       "    </tr>\n",
       "    <tr>\n",
       "      <th>322893</th>\n",
       "      <td>[50644, 36162]</td>\n",
       "      <td>4</td>\n",
       "    </tr>\n",
       "    <tr>\n",
       "      <th>322894</th>\n",
       "      <td>[36162, 168401]</td>\n",
       "      <td>4</td>\n",
       "    </tr>\n",
       "    <tr>\n",
       "      <th>322895</th>\n",
       "      <td>[289197, 63746]</td>\n",
       "      <td>4</td>\n",
       "    </tr>\n",
       "    <tr>\n",
       "      <th>322896</th>\n",
       "      <td>[30760, 157507]</td>\n",
       "      <td>4</td>\n",
       "    </tr>\n",
       "    <tr>\n",
       "      <th>322897</th>\n",
       "      <td>[1, 6, 90]</td>\n",
       "      <td>8</td>\n",
       "    </tr>\n",
       "  </tbody>\n",
       "</table>\n",
       "<p>322898 rows × 2 columns</p>\n",
       "</div>"
      ],
      "text/plain": [
       "                                    LIST_click_article_id n_click\n",
       "0       [157541, 68866, 96755, 313996, 160158, 233470,...      16\n",
       "1       [327984, 183176, 235840, 96663, 59758, 160474,...      24\n",
       "2                          [119592, 30970, 30760, 209122]       8\n",
       "3       [236444, 234318, 233688, 237452, 235745, 12096...      53\n",
       "4       [336499, 271261, 48915, 44488, 195887, 195084,...      17\n",
       "...                                                   ...     ...\n",
       "322893                                     [50644, 36162]       4\n",
       "322894                                    [36162, 168401]       4\n",
       "322895                                    [289197, 63746]       4\n",
       "322896                                    [30760, 157507]       4\n",
       "322897                                         [1, 6, 90]       8\n",
       "\n",
       "[322898 rows x 2 columns]"
      ]
     },
     "execution_count": 7,
     "metadata": {},
     "output_type": "execute_result"
    }
   ],
   "source": [
    "pd.DataFrame(np.load('UI/utiles/df_user.npy', allow_pickle=True), \n",
    "                          columns=['LIST_click_article_id', 'n_click'])"
   ]
  },
  {
   "cell_type": "markdown",
   "id": "b0ba2234",
   "metadata": {},
   "source": [
    "# Proposer une recommandation à un utilisateur"
   ]
  },
  {
   "cell_type": "code",
   "execution_count": 4,
   "id": "0583dc6a",
   "metadata": {},
   "outputs": [
    {
     "data": {
      "text/plain": [
       "[284154, 283220, 108856, 129434, 336245]"
      ]
     },
     "execution_count": 4,
     "metadata": {},
     "output_type": "execute_result"
    }
   ],
   "source": [
    "recommadantion.predict(9)"
   ]
  },
  {
   "cell_type": "markdown",
   "id": "944110e5",
   "metadata": {},
   "source": [
    "# Sauvegarde du modèle et de la base de données dans le cloud d'Azure\n",
    "\n",
    "\n",
    "<img src='utiles/Envoi des fichiers.jpg'>"
   ]
  },
  {
   "cell_type": "code",
   "execution_count": 2,
   "id": "94350f51",
   "metadata": {},
   "outputs": [
    {
     "name": "stdout",
     "output_type": "stream",
     "text": [
      "Validating arguments.\n",
      "Arguments validated.\n",
      "Uploading file to UI/utiles/\n",
      "Uploading an estimated of 5 files\n",
      "Uploading UI/utiles/sparse.npz\n",
      "Uploaded UI/utiles/sparse.npz, 1 files out of an estimated total of 5\n",
      "Uploading UI/utiles/df_article.csv\n",
      "Uploaded UI/utiles/df_article.csv, 2 files out of an estimated total of 5\n",
      "Uploading UI/utiles/df_user.npy\n",
      "Uploaded UI/utiles/df_user.npy, 3 files out of an estimated total of 5\n",
      "Uploading UI/utiles/df_user.csv\n",
      "Uploaded UI/utiles/df_user.csv, 4 files out of an estimated total of 5\n",
      "Uploading UI/utiles/model.pkl\n",
      "Uploaded UI/utiles/model.pkl, 5 files out of an estimated total of 5\n",
      "Uploaded 5 files\n",
      "Creating new dataset\n",
      "Published on Azure Blob Storage\n"
     ]
    }
   ],
   "source": [
    "recommadantion.to_publish()"
   ]
  },
  {
   "cell_type": "markdown",
   "id": "18b3240b",
   "metadata": {},
   "source": [
    "# Fonctionnement de l'application Bookshelf\n",
    "<img src=\"utiles/Application.jpg\">\n",
    "<img src=\"utiles/Fonctionnement de l'application Bookshelf.jpg\">\n",
    "\n",
    "https://appv1.azurewebsites.net/api/appv1"
   ]
  }
 ],
 "metadata": {
  "kernelspec": {
   "display_name": "app",
   "language": "python",
   "name": "app"
  },
  "language_info": {
   "codemirror_mode": {
    "name": "ipython",
    "version": 3
   },
   "file_extension": ".py",
   "mimetype": "text/x-python",
   "name": "python",
   "nbconvert_exporter": "python",
   "pygments_lexer": "ipython3",
   "version": "3.7.9"
  },
  "toc": {
   "base_numbering": 1,
   "nav_menu": {},
   "number_sections": true,
   "sideBar": true,
   "skip_h1_title": false,
   "title_cell": "Table of Contents",
   "title_sidebar": "Contents",
   "toc_cell": false,
   "toc_position": {},
   "toc_section_display": true,
   "toc_window_display": false
  }
 },
 "nbformat": 4,
 "nbformat_minor": 5
}
