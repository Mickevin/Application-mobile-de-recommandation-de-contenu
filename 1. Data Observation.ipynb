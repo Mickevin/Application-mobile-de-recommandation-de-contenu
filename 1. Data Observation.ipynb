{
 "cells": [
  {
   "cell_type": "code",
   "execution_count": 1,
   "id": "c0c4823c",
   "metadata": {},
   "outputs": [
    {
     "name": "stdout",
     "output_type": "stream",
     "text": [
      "Python 3.10.1\r\n"
     ]
    }
   ],
   "source": [
    "!python --version"
   ]
  },
  {
   "cell_type": "markdown",
   "id": "34636719",
   "metadata": {},
   "source": [
    "# | P9 - Réalisez une application mobile de recommandation de contenu\n",
    "\n",
    "\n",
    "\n",
    "<img src=\"https://user.oc-static.com/upload/2019/10/24/15719078448088_Capture%20d%E2%80%99e%CC%81cran%202019-10-24%20a%CC%80%2010.50.32.png\">\n",
    "\n",
    "\n",
    "## Contexte\n",
    "\n",
    "\n",
    "En tant que CTO et cofondateur de la start-up My Content, qui vise encourager la lecture en recommandant des contenus pertinents pour ses utilisateurs nous sommes en pleine construction d’un premier MVP qui prendra la forme d’une application mobile. \n",
    "\n",
    "Dans un premier temps, notre start-up souhaite tester une solution de recommandation d’articles et de livres à des particuliers.\n",
    "\n",
    "Ne disposant pas de sufisement de données, nous faisons utiliserons le jeux de données disponible à l'adresse\n",
    "[suivante](https://www.kaggle.com/datasets/gspmoreira/news-portal-user-interactions-by-globocom).\n",
    "\n",
    "En résumé, notre mission est la suivante :\n",
    "- développer une première version de votre application mobile avec le système de recommandation que vous aurez développé ;\n",
    "- stocker les scripts développés dans un dossier GitHub ;\n",
    "- intégrer le système de recommandation à l'application mobile développée par Julien ;\n",
    "- synthétiser vos premières réflexions sur :\n",
    "- fournir l’architecture technique et la description fonctionnelle de votre application mobile à date, et le système de recommandation,\n",
    "- fournir l’architecture cible pour pouvoir prendre en compte l’ajout de nouveaux utilisateurs ou de nouveaux articles, que vous présenterez à Samia."
   ]
  },
  {
   "cell_type": "markdown",
   "id": "f3fe61bf",
   "metadata": {},
   "source": [
    "# Observation du jeu de données\n",
    "\n",
    "\n",
    "Le jeu de données utilisé lors de cette phase de construction du MVP est composé de trois fichiers et un répertoire :\n",
    "1. <b>articles_embeddings.pickle</b>Contenant l'ensemble des articles du site https://www.globo.com/ sous forme d'embeding.\n",
    "\n",
    "\n",
    "2. <b>articles_metadata.csv</b>Contenant l'ensemble des méta-donées relatives aux articles (id de l'article, id de la catégorie de l'article, date de craétion de l'article, id de l'auteur et nombre de mot de l'article).\n",
    "\n",
    "\n",
    "3. <b>clicks_sample.csv</b> Contenant l'ensemble des informations relatives aux utilisateurs (id de l'utilisateur, id des sessions, date du début et de la session, taille de la session, id de l'article lu, date du click, environement/device et os de l'utilisateur, pays et regions de l'utilisateur).\n",
    "\n",
    "\n",
    "4. <b>clicks.zip</b> Repertoir regroupant le détail des sessions des utilisateurs du 1er au 16 octobre 2017 pour près de 3 millions de clicks sur 385 fichiers .csv, les variable étant les mêmeqs que pour le jeu de données clicks_sample.csv :\n",
    "- user_id : unique id for the user.\n",
    "- session_id : unique id for an user's session. Can appear multiple times because multiple clicks per session.\n",
    "- session_start : timestamp of the session. You must remove the 3 last numbers. Oldest session : 2017/10/01 2:37:3. \n",
    "- Newest session : 2017/10/1 3:39:19\n",
    "- session_size : how many clicks per session. From 2 to 24. Distribution available few cells below.\n",
    "- click_article_id : the article that has been cliked on.\n",
    "- click_environment : no idea, maybe from website/app ? There is only three types, and the type 4 takes more than 90%.\n",
    "- click_deviceGroup : must be the kind of device : computer, smartphone or tablet ?\n",
    "- click_os : the operation system of the device.\n",
    "- click_country : which country the user come from.\n",
    "- click_region : same but for region.\n",
    "- click_referrer_type : good question."
   ]
  },
  {
   "cell_type": "markdown",
   "id": "221fddf3",
   "metadata": {},
   "source": [
    "## Observation du jeu de donnée Articles_metadata"
   ]
  },
  {
   "cell_type": "code",
   "execution_count": 2,
   "id": "8a57e98a",
   "metadata": {},
   "outputs": [
    {
     "data": {
      "text/html": [
       "<div>\n",
       "<style scoped>\n",
       "    .dataframe tbody tr th:only-of-type {\n",
       "        vertical-align: middle;\n",
       "    }\n",
       "\n",
       "    .dataframe tbody tr th {\n",
       "        vertical-align: top;\n",
       "    }\n",
       "\n",
       "    .dataframe thead th {\n",
       "        text-align: right;\n",
       "    }\n",
       "</style>\n",
       "<table border=\"1\" class=\"dataframe\">\n",
       "  <thead>\n",
       "    <tr style=\"text-align: right;\">\n",
       "      <th></th>\n",
       "      <th>article_id</th>\n",
       "      <th>category_id</th>\n",
       "      <th>created_at_ts</th>\n",
       "      <th>publisher_id</th>\n",
       "      <th>words_count</th>\n",
       "    </tr>\n",
       "  </thead>\n",
       "  <tbody>\n",
       "    <tr>\n",
       "      <th>0</th>\n",
       "      <td>0</td>\n",
       "      <td>0</td>\n",
       "      <td>1513144419000</td>\n",
       "      <td>0</td>\n",
       "      <td>168</td>\n",
       "    </tr>\n",
       "    <tr>\n",
       "      <th>1</th>\n",
       "      <td>1</td>\n",
       "      <td>1</td>\n",
       "      <td>1405341936000</td>\n",
       "      <td>0</td>\n",
       "      <td>189</td>\n",
       "    </tr>\n",
       "    <tr>\n",
       "      <th>2</th>\n",
       "      <td>2</td>\n",
       "      <td>1</td>\n",
       "      <td>1408667706000</td>\n",
       "      <td>0</td>\n",
       "      <td>250</td>\n",
       "    </tr>\n",
       "    <tr>\n",
       "      <th>3</th>\n",
       "      <td>3</td>\n",
       "      <td>1</td>\n",
       "      <td>1408468313000</td>\n",
       "      <td>0</td>\n",
       "      <td>230</td>\n",
       "    </tr>\n",
       "    <tr>\n",
       "      <th>4</th>\n",
       "      <td>4</td>\n",
       "      <td>1</td>\n",
       "      <td>1407071171000</td>\n",
       "      <td>0</td>\n",
       "      <td>162</td>\n",
       "    </tr>\n",
       "  </tbody>\n",
       "</table>\n",
       "</div>"
      ],
      "text/plain": [
       "   article_id  category_id  created_at_ts  publisher_id  words_count\n",
       "0           0            0  1513144419000             0          168\n",
       "1           1            1  1405341936000             0          189\n",
       "2           2            1  1408667706000             0          250\n",
       "3           3            1  1408468313000             0          230\n",
       "4           4            1  1407071171000             0          162"
      ]
     },
     "execution_count": 2,
     "metadata": {},
     "output_type": "execute_result"
    }
   ],
   "source": [
    "import numpy as np\n",
    "import pandas as pd\n",
    "import matplotlib.pyplot as plt\n",
    "import seaborn as sns\n",
    "\n",
    "df_1 = pd.read_csv('./news-portal-user-interactions-by-globocom/articles_metadata.csv')\n",
    "df_1.head()"
   ]
  },
  {
   "cell_type": "code",
   "execution_count": 53,
   "id": "ae829894",
   "metadata": {},
   "outputs": [
    {
     "data": {
      "image/png": "[encoded data removed]",
      "text/plain": [
       "<Figure size 1080x432 with 1 Axes>"
      ]
     },
     "metadata": {
      "needs_background": "light"
     },
     "output_type": "display_data"
    }
   ],
   "source": [
    "\n",
    "import time\n",
    "plt.figure(figsize=(15,6))\n",
    "plt.title(\"Evolution du nombre d'article publié en fonctionnée de l'année\")\n",
    "df_1.created_at_ts.apply(lambda x: time.localtime(x//1000)[0]).hist()\n",
    "plt.show()"
   ]
  },
  {
   "cell_type": "code",
   "execution_count": 49,
   "id": "76b08767",
   "metadata": {},
   "outputs": [
    {
     "data": {
      "text/plain": [
       "2017    155356\n",
       "2016     58360\n",
       "2015     49604\n",
       "2018     46955\n",
       "2014     34244\n",
       "2013     18894\n",
       "2012       341\n",
       "2011       170\n",
       "2010        61\n",
       "2007        33\n",
       "2009        13\n",
       "2006         9\n",
       "2008         7\n",
       "Name: created_at_ts, dtype: int64"
      ]
     },
     "execution_count": 49,
     "metadata": {},
     "output_type": "execute_result"
    }
   ],
   "source": [
    "df_1.created_at_ts.apply(lambda x: time.localtime(x//1000)[0]).value_counts()"
   ]
  },
  {
   "cell_type": "code",
   "execution_count": 23,
   "id": "513063c6",
   "metadata": {},
   "outputs": [
    {
     "data": {
      "text/html": [
       "<div>\n",
       "<style scoped>\n",
       "    .dataframe tbody tr th:only-of-type {\n",
       "        vertical-align: middle;\n",
       "    }\n",
       "\n",
       "    .dataframe tbody tr th {\n",
       "        vertical-align: top;\n",
       "    }\n",
       "\n",
       "    .dataframe thead th {\n",
       "        text-align: right;\n",
       "    }\n",
       "</style>\n",
       "<table border=\"1\" class=\"dataframe\">\n",
       "  <thead>\n",
       "    <tr style=\"text-align: right;\">\n",
       "      <th></th>\n",
       "      <th>article_id</th>\n",
       "      <th>category_id</th>\n",
       "      <th>created_at_ts</th>\n",
       "      <th>publisher_id</th>\n",
       "      <th>words_count</th>\n",
       "    </tr>\n",
       "  </thead>\n",
       "  <tbody>\n",
       "    <tr>\n",
       "      <th>0</th>\n",
       "      <td>0</td>\n",
       "      <td>0</td>\n",
       "      <td>1513144419000</td>\n",
       "      <td>0</td>\n",
       "      <td>168</td>\n",
       "    </tr>\n",
       "    <tr>\n",
       "      <th>1</th>\n",
       "      <td>1</td>\n",
       "      <td>1</td>\n",
       "      <td>1405341936000</td>\n",
       "      <td>0</td>\n",
       "      <td>189</td>\n",
       "    </tr>\n",
       "    <tr>\n",
       "      <th>2</th>\n",
       "      <td>2</td>\n",
       "      <td>1</td>\n",
       "      <td>1408667706000</td>\n",
       "      <td>0</td>\n",
       "      <td>250</td>\n",
       "    </tr>\n",
       "    <tr>\n",
       "      <th>3</th>\n",
       "      <td>3</td>\n",
       "      <td>1</td>\n",
       "      <td>1408468313000</td>\n",
       "      <td>0</td>\n",
       "      <td>230</td>\n",
       "    </tr>\n",
       "    <tr>\n",
       "      <th>4</th>\n",
       "      <td>4</td>\n",
       "      <td>1</td>\n",
       "      <td>1407071171000</td>\n",
       "      <td>0</td>\n",
       "      <td>162</td>\n",
       "    </tr>\n",
       "    <tr>\n",
       "      <th>...</th>\n",
       "      <td>...</td>\n",
       "      <td>...</td>\n",
       "      <td>...</td>\n",
       "      <td>...</td>\n",
       "      <td>...</td>\n",
       "    </tr>\n",
       "    <tr>\n",
       "      <th>364042</th>\n",
       "      <td>364042</td>\n",
       "      <td>460</td>\n",
       "      <td>1434034118000</td>\n",
       "      <td>0</td>\n",
       "      <td>144</td>\n",
       "    </tr>\n",
       "    <tr>\n",
       "      <th>364043</th>\n",
       "      <td>364043</td>\n",
       "      <td>460</td>\n",
       "      <td>1434148472000</td>\n",
       "      <td>0</td>\n",
       "      <td>463</td>\n",
       "    </tr>\n",
       "    <tr>\n",
       "      <th>364044</th>\n",
       "      <td>364044</td>\n",
       "      <td>460</td>\n",
       "      <td>1457974279000</td>\n",
       "      <td>0</td>\n",
       "      <td>177</td>\n",
       "    </tr>\n",
       "    <tr>\n",
       "      <th>364045</th>\n",
       "      <td>364045</td>\n",
       "      <td>460</td>\n",
       "      <td>1515964737000</td>\n",
       "      <td>0</td>\n",
       "      <td>126</td>\n",
       "    </tr>\n",
       "    <tr>\n",
       "      <th>364046</th>\n",
       "      <td>364046</td>\n",
       "      <td>460</td>\n",
       "      <td>1505811330000</td>\n",
       "      <td>0</td>\n",
       "      <td>479</td>\n",
       "    </tr>\n",
       "  </tbody>\n",
       "</table>\n",
       "<p>364047 rows × 5 columns</p>\n",
       "</div>"
      ],
      "text/plain": [
       "        article_id  category_id  created_at_ts  publisher_id  words_count\n",
       "0                0            0  1513144419000             0          168\n",
       "1                1            1  1405341936000             0          189\n",
       "2                2            1  1408667706000             0          250\n",
       "3                3            1  1408468313000             0          230\n",
       "4                4            1  1407071171000             0          162\n",
       "...            ...          ...            ...           ...          ...\n",
       "364042      364042          460  1434034118000             0          144\n",
       "364043      364043          460  1434148472000             0          463\n",
       "364044      364044          460  1457974279000             0          177\n",
       "364045      364045          460  1515964737000             0          126\n",
       "364046      364046          460  1505811330000             0          479\n",
       "\n",
       "[364047 rows x 5 columns]"
      ]
     },
     "execution_count": 23,
     "metadata": {},
     "output_type": "execute_result"
    }
   ],
   "source": [
    "df_1"
   ]
  },
  {
   "cell_type": "code",
   "execution_count": 36,
   "id": "fa278b7c",
   "metadata": {},
   "outputs": [
    {
     "data": {
      "text/plain": [
       "35"
      ]
     },
     "execution_count": 36,
     "metadata": {},
     "output_type": "execute_result"
    }
   ],
   "source": [
    "len(df_1[df_1.words_count == 0])"
   ]
  },
  {
   "cell_type": "code",
   "execution_count": 40,
   "id": "80544e55",
   "metadata": {},
   "outputs": [
    {
     "data": {
      "text/plain": [
       "99000"
      ]
     },
     "execution_count": 40,
     "metadata": {},
     "output_type": "execute_result"
    }
   ],
   "source": [
    "df_1[df_1.words_count != 0].words_count.argmin()"
   ]
  },
  {
   "cell_type": "code",
   "execution_count": 4,
   "id": "6f87bf92",
   "metadata": {},
   "outputs": [
    {
     "data": {
      "image/png": "[encoded data removed]",
      "text/plain": [
       "<Figure size 1080x432 with 1 Axes>"
      ]
     },
     "metadata": {
      "needs_background": "light"
     },
     "output_type": "display_data"
    },
    {
     "data": {
      "image/png": "[encoded data removed]",
      "text/plain": [
       "<Figure size 1080x432 with 1 Axes>"
      ]
     },
     "metadata": {
      "needs_background": "light"
     },
     "output_type": "display_data"
    },
    {
     "data": {
      "image/png": "[encoded data removed]",
      "text/plain": [
       "<Figure size 1800x432 with 1 Axes>"
      ]
     },
     "metadata": {
      "needs_background": "light"
     },
     "output_type": "display_data"
    },
    {
     "name": "stdout",
     "output_type": "stream",
     "text": [
      "La moyenne du nombre de mot par article est de 190\n"
     ]
    }
   ],
   "source": [
    "plt.figure(figsize=(15,6))\n",
    "plt.title(f'Histogramme variable : {df_1.columns[1]}')\n",
    "sns.histplot(df_1.category_id)\n",
    "plt.show()\n",
    "\n",
    "plt.figure(figsize=(15,6))\n",
    "plt.title('Histograme du nombre de mot par article')\n",
    "df_1.words_count.hist(bins=50, range=(0,400))\n",
    "plt.show()\n",
    "\n",
    "plt.figure(figsize=(25,6))\n",
    "plt.title(\"Histograme des catégories d'article.\")\n",
    "df_1.category_id.hist(bins=500, range=(0,500))\n",
    "plt.show()\n",
    "print(f'La moyenne du nombre de mot par article est de {int(df_1.words_count.mean())}')"
   ]
  },
  {
   "cell_type": "markdown",
   "id": "5319cd71",
   "metadata": {},
   "source": [
    "Le jeu de données 'Articles_metadata' contient les informations des 364 047 utilisateurs connéectés du 1 au 16 octobre 2017."
   ]
  },
  {
   "cell_type": "markdown",
   "id": "510933ae",
   "metadata": {},
   "source": [
    "## Observation du jeu de données Clicks_sample.csv"
   ]
  },
  {
   "cell_type": "code",
   "execution_count": 10,
   "id": "32f4499f",
   "metadata": {},
   "outputs": [
    {
     "data": {
      "text/html": [
       "<div>\n",
       "<style scoped>\n",
       "    .dataframe tbody tr th:only-of-type {\n",
       "        vertical-align: middle;\n",
       "    }\n",
       "\n",
       "    .dataframe tbody tr th {\n",
       "        vertical-align: top;\n",
       "    }\n",
       "\n",
       "    .dataframe thead th {\n",
       "        text-align: right;\n",
       "    }\n",
       "</style>\n",
       "<table border=\"1\" class=\"dataframe\">\n",
       "  <thead>\n",
       "    <tr style=\"text-align: right;\">\n",
       "      <th></th>\n",
       "      <th>user_id</th>\n",
       "      <th>session_id</th>\n",
       "      <th>session_start</th>\n",
       "      <th>session_size</th>\n",
       "      <th>click_article_id</th>\n",
       "      <th>click_timestamp</th>\n",
       "      <th>click_environment</th>\n",
       "      <th>click_deviceGroup</th>\n",
       "      <th>click_os</th>\n",
       "      <th>click_country</th>\n",
       "      <th>click_region</th>\n",
       "      <th>click_referrer_type</th>\n",
       "    </tr>\n",
       "  </thead>\n",
       "  <tbody>\n",
       "    <tr>\n",
       "      <th>0</th>\n",
       "      <td>0</td>\n",
       "      <td>1506825423271737</td>\n",
       "      <td>1506825423000</td>\n",
       "      <td>2</td>\n",
       "      <td>157541</td>\n",
       "      <td>1506826828020</td>\n",
       "      <td>4</td>\n",
       "      <td>3</td>\n",
       "      <td>20</td>\n",
       "      <td>1</td>\n",
       "      <td>20</td>\n",
       "      <td>2</td>\n",
       "    </tr>\n",
       "    <tr>\n",
       "      <th>1</th>\n",
       "      <td>0</td>\n",
       "      <td>1506825423271737</td>\n",
       "      <td>1506825423000</td>\n",
       "      <td>2</td>\n",
       "      <td>68866</td>\n",
       "      <td>1506826858020</td>\n",
       "      <td>4</td>\n",
       "      <td>3</td>\n",
       "      <td>20</td>\n",
       "      <td>1</td>\n",
       "      <td>20</td>\n",
       "      <td>2</td>\n",
       "    </tr>\n",
       "    <tr>\n",
       "      <th>2</th>\n",
       "      <td>1</td>\n",
       "      <td>1506825426267738</td>\n",
       "      <td>1506825426000</td>\n",
       "      <td>2</td>\n",
       "      <td>235840</td>\n",
       "      <td>1506827017951</td>\n",
       "      <td>4</td>\n",
       "      <td>1</td>\n",
       "      <td>17</td>\n",
       "      <td>1</td>\n",
       "      <td>16</td>\n",
       "      <td>2</td>\n",
       "    </tr>\n",
       "    <tr>\n",
       "      <th>3</th>\n",
       "      <td>1</td>\n",
       "      <td>1506825426267738</td>\n",
       "      <td>1506825426000</td>\n",
       "      <td>2</td>\n",
       "      <td>96663</td>\n",
       "      <td>1506827047951</td>\n",
       "      <td>4</td>\n",
       "      <td>1</td>\n",
       "      <td>17</td>\n",
       "      <td>1</td>\n",
       "      <td>16</td>\n",
       "      <td>2</td>\n",
       "    </tr>\n",
       "    <tr>\n",
       "      <th>4</th>\n",
       "      <td>2</td>\n",
       "      <td>1506825435299739</td>\n",
       "      <td>1506825435000</td>\n",
       "      <td>2</td>\n",
       "      <td>119592</td>\n",
       "      <td>1506827090575</td>\n",
       "      <td>4</td>\n",
       "      <td>1</td>\n",
       "      <td>17</td>\n",
       "      <td>1</td>\n",
       "      <td>24</td>\n",
       "      <td>2</td>\n",
       "    </tr>\n",
       "    <tr>\n",
       "      <th>...</th>\n",
       "      <td>...</td>\n",
       "      <td>...</td>\n",
       "      <td>...</td>\n",
       "      <td>...</td>\n",
       "      <td>...</td>\n",
       "      <td>...</td>\n",
       "      <td>...</td>\n",
       "      <td>...</td>\n",
       "      <td>...</td>\n",
       "      <td>...</td>\n",
       "      <td>...</td>\n",
       "      <td>...</td>\n",
       "    </tr>\n",
       "    <tr>\n",
       "      <th>1878</th>\n",
       "      <td>705</td>\n",
       "      <td>1506828968165442</td>\n",
       "      <td>1506828968000</td>\n",
       "      <td>2</td>\n",
       "      <td>119592</td>\n",
       "      <td>1506830912301</td>\n",
       "      <td>4</td>\n",
       "      <td>1</td>\n",
       "      <td>17</td>\n",
       "      <td>1</td>\n",
       "      <td>21</td>\n",
       "      <td>2</td>\n",
       "    </tr>\n",
       "    <tr>\n",
       "      <th>1879</th>\n",
       "      <td>705</td>\n",
       "      <td>1506828968165442</td>\n",
       "      <td>1506828968000</td>\n",
       "      <td>2</td>\n",
       "      <td>284847</td>\n",
       "      <td>1506830942301</td>\n",
       "      <td>4</td>\n",
       "      <td>1</td>\n",
       "      <td>17</td>\n",
       "      <td>1</td>\n",
       "      <td>21</td>\n",
       "      <td>2</td>\n",
       "    </tr>\n",
       "    <tr>\n",
       "      <th>1880</th>\n",
       "      <td>706</td>\n",
       "      <td>1506828979881443</td>\n",
       "      <td>1506828979000</td>\n",
       "      <td>3</td>\n",
       "      <td>108854</td>\n",
       "      <td>1506829027334</td>\n",
       "      <td>4</td>\n",
       "      <td>3</td>\n",
       "      <td>2</td>\n",
       "      <td>1</td>\n",
       "      <td>25</td>\n",
       "      <td>1</td>\n",
       "    </tr>\n",
       "    <tr>\n",
       "      <th>1881</th>\n",
       "      <td>706</td>\n",
       "      <td>1506828979881443</td>\n",
       "      <td>1506828979000</td>\n",
       "      <td>3</td>\n",
       "      <td>96663</td>\n",
       "      <td>1506829095732</td>\n",
       "      <td>4</td>\n",
       "      <td>3</td>\n",
       "      <td>2</td>\n",
       "      <td>1</td>\n",
       "      <td>25</td>\n",
       "      <td>1</td>\n",
       "    </tr>\n",
       "    <tr>\n",
       "      <th>1882</th>\n",
       "      <td>706</td>\n",
       "      <td>1506828979881443</td>\n",
       "      <td>1506828979000</td>\n",
       "      <td>3</td>\n",
       "      <td>68866</td>\n",
       "      <td>1506829125732</td>\n",
       "      <td>4</td>\n",
       "      <td>3</td>\n",
       "      <td>2</td>\n",
       "      <td>1</td>\n",
       "      <td>25</td>\n",
       "      <td>1</td>\n",
       "    </tr>\n",
       "  </tbody>\n",
       "</table>\n",
       "<p>1883 rows × 12 columns</p>\n",
       "</div>"
      ],
      "text/plain": [
       "      user_id        session_id  session_start  session_size  \\\n",
       "0           0  1506825423271737  1506825423000             2   \n",
       "1           0  1506825423271737  1506825423000             2   \n",
       "2           1  1506825426267738  1506825426000             2   \n",
       "3           1  1506825426267738  1506825426000             2   \n",
       "4           2  1506825435299739  1506825435000             2   \n",
       "...       ...               ...            ...           ...   \n",
       "1878      705  1506828968165442  1506828968000             2   \n",
       "1879      705  1506828968165442  1506828968000             2   \n",
       "1880      706  1506828979881443  1506828979000             3   \n",
       "1881      706  1506828979881443  1506828979000             3   \n",
       "1882      706  1506828979881443  1506828979000             3   \n",
       "\n",
       "      click_article_id  click_timestamp  click_environment  click_deviceGroup  \\\n",
       "0               157541    1506826828020                  4                  3   \n",
       "1                68866    1506826858020                  4                  3   \n",
       "2               235840    1506827017951                  4                  1   \n",
       "3                96663    1506827047951                  4                  1   \n",
       "4               119592    1506827090575                  4                  1   \n",
       "...                ...              ...                ...                ...   \n",
       "1878            119592    1506830912301                  4                  1   \n",
       "1879            284847    1506830942301                  4                  1   \n",
       "1880            108854    1506829027334                  4                  3   \n",
       "1881             96663    1506829095732                  4                  3   \n",
       "1882             68866    1506829125732                  4                  3   \n",
       "\n",
       "      click_os  click_country  click_region  click_referrer_type  \n",
       "0           20              1            20                    2  \n",
       "1           20              1            20                    2  \n",
       "2           17              1            16                    2  \n",
       "3           17              1            16                    2  \n",
       "4           17              1            24                    2  \n",
       "...        ...            ...           ...                  ...  \n",
       "1878        17              1            21                    2  \n",
       "1879        17              1            21                    2  \n",
       "1880         2              1            25                    1  \n",
       "1881         2              1            25                    1  \n",
       "1882         2              1            25                    1  \n",
       "\n",
       "[1883 rows x 12 columns]"
      ]
     },
     "execution_count": 10,
     "metadata": {},
     "output_type": "execute_result"
    }
   ],
   "source": [
    "df_2 = pd.read_csv('./news-portal-user-interactions-by-globocom/clicks_sample.csv')\n",
    "df_2"
   ]
  },
  {
   "cell_type": "code",
   "execution_count": 31,
   "id": "af9c94f9",
   "metadata": {},
   "outputs": [
    {
     "name": "stdout",
     "output_type": "stream",
     "text": [
      "<class 'pandas.core.frame.DataFrame'>\n",
      "RangeIndex: 1883 entries, 0 to 1882\n",
      "Data columns (total 12 columns):\n",
      " #   Column               Non-Null Count  Dtype\n",
      "---  ------               --------------  -----\n",
      " 0   user_id              1883 non-null   int64\n",
      " 1   session_id           1883 non-null   int64\n",
      " 2   session_start        1883 non-null   int64\n",
      " 3   session_size         1883 non-null   int64\n",
      " 4   click_article_id     1883 non-null   int64\n",
      " 5   click_timestamp      1883 non-null   int64\n",
      " 6   click_environment    1883 non-null   int64\n",
      " 7   click_deviceGroup    1883 non-null   int64\n",
      " 8   click_os             1883 non-null   int64\n",
      " 9   click_country        1883 non-null   int64\n",
      " 10  click_region         1883 non-null   int64\n",
      " 11  click_referrer_type  1883 non-null   int64\n",
      "dtypes: int64(12)\n",
      "memory usage: 176.7 KB\n"
     ]
    }
   ],
   "source": [
    "df_2.info()"
   ]
  },
  {
   "cell_type": "code",
   "execution_count": 25,
   "id": "c4dea9a5",
   "metadata": {},
   "outputs": [
    {
     "data": {
      "text/html": [
       "<div>\n",
       "<style scoped>\n",
       "    .dataframe tbody tr th:only-of-type {\n",
       "        vertical-align: middle;\n",
       "    }\n",
       "\n",
       "    .dataframe tbody tr th {\n",
       "        vertical-align: top;\n",
       "    }\n",
       "\n",
       "    .dataframe thead th {\n",
       "        text-align: right;\n",
       "    }\n",
       "</style>\n",
       "<table border=\"1\" class=\"dataframe\">\n",
       "  <thead>\n",
       "    <tr style=\"text-align: right;\">\n",
       "      <th></th>\n",
       "      <th>user_id</th>\n",
       "      <th>session_id</th>\n",
       "      <th>session_start</th>\n",
       "      <th>session_size</th>\n",
       "      <th>click_article_id</th>\n",
       "      <th>click_timestamp</th>\n",
       "      <th>click_environment</th>\n",
       "      <th>click_deviceGroup</th>\n",
       "      <th>click_os</th>\n",
       "      <th>click_country</th>\n",
       "      <th>click_region</th>\n",
       "      <th>click_referrer_type</th>\n",
       "    </tr>\n",
       "  </thead>\n",
       "  <tbody>\n",
       "    <tr>\n",
       "      <th>count</th>\n",
       "      <td>1883.000000</td>\n",
       "      <td>1.883000e+03</td>\n",
       "      <td>1.883000e+03</td>\n",
       "      <td>1883.000000</td>\n",
       "      <td>1883.000000</td>\n",
       "      <td>1.883000e+03</td>\n",
       "      <td>1883.000000</td>\n",
       "      <td>1883.000000</td>\n",
       "      <td>1883.000000</td>\n",
       "      <td>1883.000000</td>\n",
       "      <td>1883.000000</td>\n",
       "      <td>1883.000000</td>\n",
       "    </tr>\n",
       "    <tr>\n",
       "      <th>mean</th>\n",
       "      <td>355.893787</td>\n",
       "      <td>1.506828e+15</td>\n",
       "      <td>1.506828e+12</td>\n",
       "      <td>3.459904</td>\n",
       "      <td>176717.848646</td>\n",
       "      <td>1.506830e+12</td>\n",
       "      <td>3.917153</td>\n",
       "      <td>2.305895</td>\n",
       "      <td>12.113648</td>\n",
       "      <td>1.491768</td>\n",
       "      <td>18.774827</td>\n",
       "      <td>1.764206</td>\n",
       "    </tr>\n",
       "    <tr>\n",
       "      <th>std</th>\n",
       "      <td>206.162865</td>\n",
       "      <td>8.679628e+08</td>\n",
       "      <td>8.679468e+05</td>\n",
       "      <td>3.037467</td>\n",
       "      <td>82324.177259</td>\n",
       "      <td>1.064938e+07</td>\n",
       "      <td>0.410461</td>\n",
       "      <td>1.062301</td>\n",
       "      <td>7.825735</td>\n",
       "      <td>2.007772</td>\n",
       "      <td>7.083400</td>\n",
       "      <td>1.225679</td>\n",
       "    </tr>\n",
       "    <tr>\n",
       "      <th>min</th>\n",
       "      <td>0.000000</td>\n",
       "      <td>1.506825e+15</td>\n",
       "      <td>1.506825e+12</td>\n",
       "      <td>2.000000</td>\n",
       "      <td>2137.000000</td>\n",
       "      <td>1.506827e+12</td>\n",
       "      <td>1.000000</td>\n",
       "      <td>1.000000</td>\n",
       "      <td>2.000000</td>\n",
       "      <td>1.000000</td>\n",
       "      <td>1.000000</td>\n",
       "      <td>1.000000</td>\n",
       "    </tr>\n",
       "    <tr>\n",
       "      <th>25%</th>\n",
       "      <td>181.500000</td>\n",
       "      <td>1.506827e+15</td>\n",
       "      <td>1.506827e+12</td>\n",
       "      <td>2.000000</td>\n",
       "      <td>108854.000000</td>\n",
       "      <td>1.506828e+12</td>\n",
       "      <td>4.000000</td>\n",
       "      <td>1.000000</td>\n",
       "      <td>2.000000</td>\n",
       "      <td>1.000000</td>\n",
       "      <td>13.000000</td>\n",
       "      <td>1.000000</td>\n",
       "    </tr>\n",
       "    <tr>\n",
       "      <th>50%</th>\n",
       "      <td>353.000000</td>\n",
       "      <td>1.506828e+15</td>\n",
       "      <td>1.506828e+12</td>\n",
       "      <td>3.000000</td>\n",
       "      <td>157541.000000</td>\n",
       "      <td>1.506828e+12</td>\n",
       "      <td>4.000000</td>\n",
       "      <td>3.000000</td>\n",
       "      <td>17.000000</td>\n",
       "      <td>1.000000</td>\n",
       "      <td>21.000000</td>\n",
       "      <td>1.000000</td>\n",
       "    </tr>\n",
       "    <tr>\n",
       "      <th>75%</th>\n",
       "      <td>537.000000</td>\n",
       "      <td>1.506828e+15</td>\n",
       "      <td>1.506828e+12</td>\n",
       "      <td>4.000000</td>\n",
       "      <td>236697.500000</td>\n",
       "      <td>1.506829e+12</td>\n",
       "      <td>4.000000</td>\n",
       "      <td>3.000000</td>\n",
       "      <td>19.000000</td>\n",
       "      <td>1.000000</td>\n",
       "      <td>25.000000</td>\n",
       "      <td>2.000000</td>\n",
       "    </tr>\n",
       "    <tr>\n",
       "      <th>max</th>\n",
       "      <td>706.000000</td>\n",
       "      <td>1.506829e+15</td>\n",
       "      <td>1.506829e+12</td>\n",
       "      <td>24.000000</td>\n",
       "      <td>363291.000000</td>\n",
       "      <td>1.506998e+12</td>\n",
       "      <td>4.000000</td>\n",
       "      <td>4.000000</td>\n",
       "      <td>20.000000</td>\n",
       "      <td>11.000000</td>\n",
       "      <td>28.000000</td>\n",
       "      <td>7.000000</td>\n",
       "    </tr>\n",
       "  </tbody>\n",
       "</table>\n",
       "</div>"
      ],
      "text/plain": [
       "           user_id    session_id  session_start  session_size  \\\n",
       "count  1883.000000  1.883000e+03   1.883000e+03   1883.000000   \n",
       "mean    355.893787  1.506828e+15   1.506828e+12      3.459904   \n",
       "std     206.162865  8.679628e+08   8.679468e+05      3.037467   \n",
       "min       0.000000  1.506825e+15   1.506825e+12      2.000000   \n",
       "25%     181.500000  1.506827e+15   1.506827e+12      2.000000   \n",
       "50%     353.000000  1.506828e+15   1.506828e+12      3.000000   \n",
       "75%     537.000000  1.506828e+15   1.506828e+12      4.000000   \n",
       "max     706.000000  1.506829e+15   1.506829e+12     24.000000   \n",
       "\n",
       "       click_article_id  click_timestamp  click_environment  \\\n",
       "count       1883.000000     1.883000e+03        1883.000000   \n",
       "mean      176717.848646     1.506830e+12           3.917153   \n",
       "std        82324.177259     1.064938e+07           0.410461   \n",
       "min         2137.000000     1.506827e+12           1.000000   \n",
       "25%       108854.000000     1.506828e+12           4.000000   \n",
       "50%       157541.000000     1.506828e+12           4.000000   \n",
       "75%       236697.500000     1.506829e+12           4.000000   \n",
       "max       363291.000000     1.506998e+12           4.000000   \n",
       "\n",
       "       click_deviceGroup     click_os  click_country  click_region  \\\n",
       "count        1883.000000  1883.000000    1883.000000   1883.000000   \n",
       "mean            2.305895    12.113648       1.491768     18.774827   \n",
       "std             1.062301     7.825735       2.007772      7.083400   \n",
       "min             1.000000     2.000000       1.000000      1.000000   \n",
       "25%             1.000000     2.000000       1.000000     13.000000   \n",
       "50%             3.000000    17.000000       1.000000     21.000000   \n",
       "75%             3.000000    19.000000       1.000000     25.000000   \n",
       "max             4.000000    20.000000      11.000000     28.000000   \n",
       "\n",
       "       click_referrer_type  \n",
       "count          1883.000000  \n",
       "mean              1.764206  \n",
       "std               1.225679  \n",
       "min               1.000000  \n",
       "25%               1.000000  \n",
       "50%               1.000000  \n",
       "75%               2.000000  \n",
       "max               7.000000  "
      ]
     },
     "execution_count": 25,
     "metadata": {},
     "output_type": "execute_result"
    }
   ],
   "source": [
    "df_2.describe()"
   ]
  },
  {
   "cell_type": "code",
   "execution_count": 30,
   "id": "bf76e993",
   "metadata": {},
   "outputs": [
    {
     "data": {
      "image/png": "[encoded data removed]",
      "text/plain": [
       "<Figure size 1080x432 with 1 Axes>"
      ]
     },
     "metadata": {
      "needs_background": "light"
     },
     "output_type": "display_data"
    }
   ],
   "source": [
    "plt.figure(figsize=(15,6))\n",
    "plt.title(f'Histogramme variable du nombre de session par utilisateur')\n",
    "df_2.session_size.hist()\n",
    "plt.show()"
   ]
  },
  {
   "cell_type": "code",
   "execution_count": 83,
   "id": "f946705a",
   "metadata": {},
   "outputs": [
    {
     "data": {
      "text/plain": [
       "'Sun Oct  1 05:00:28 2017'"
      ]
     },
     "execution_count": 83,
     "metadata": {},
     "output_type": "execute_result"
    }
   ],
   "source": [
    "df_2\n",
    "time.ctime\n",
    "time.ctime(1506826828020//1000)"
   ]
  },
  {
   "cell_type": "code",
   "execution_count": 32,
   "id": "9a3d01c5",
   "metadata": {},
   "outputs": [
    {
     "data": {
      "image/png": "[encoded data removed]",
      "text/plain": [
       "<Figure size 1080x432 with 1 Axes>"
      ]
     },
     "metadata": {
      "needs_background": "light"
     },
     "output_type": "display_data"
    },
    {
     "data": {
      "image/png": "[encoded data removed]",
      "text/plain": [
       "<Figure size 1080x432 with 1 Axes>"
      ]
     },
     "metadata": {
      "needs_background": "light"
     },
     "output_type": "display_data"
    }
   ],
   "source": [
    "plt.figure(figsize=(15,6))\n",
    "df_2.user_id.value_counts().hist(bins=20, range=(1,10))\n",
    "plt.show()\n",
    "\n",
    "\n",
    "plt.figure(figsize=(15,6))\n",
    "df_2.session_size.value_counts().hist(bins=20, range=(0,1000))\n",
    "plt.show()"
   ]
  },
  {
   "cell_type": "code",
   "execution_count": 16,
   "id": "fff5c956",
   "metadata": {},
   "outputs": [
    {
     "data": {
      "text/html": [
       "<div>\n",
       "<style scoped>\n",
       "    .dataframe tbody tr th:only-of-type {\n",
       "        vertical-align: middle;\n",
       "    }\n",
       "\n",
       "    .dataframe tbody tr th {\n",
       "        vertical-align: top;\n",
       "    }\n",
       "\n",
       "    .dataframe thead th {\n",
       "        text-align: right;\n",
       "    }\n",
       "</style>\n",
       "<table border=\"1\" class=\"dataframe\">\n",
       "  <thead>\n",
       "    <tr style=\"text-align: right;\">\n",
       "      <th></th>\n",
       "      <th>user_id</th>\n",
       "      <th>session_id</th>\n",
       "      <th>session_start</th>\n",
       "      <th>session_size</th>\n",
       "      <th>click_article_id</th>\n",
       "      <th>click_timestamp</th>\n",
       "      <th>click_environment</th>\n",
       "      <th>click_deviceGroup</th>\n",
       "      <th>click_os</th>\n",
       "      <th>click_country</th>\n",
       "      <th>click_region</th>\n",
       "      <th>click_referrer_type</th>\n",
       "    </tr>\n",
       "  </thead>\n",
       "  <tbody>\n",
       "    <tr>\n",
       "      <th>0</th>\n",
       "      <td>0</td>\n",
       "      <td>1506825423271737</td>\n",
       "      <td>1506825423000</td>\n",
       "      <td>2</td>\n",
       "      <td>157541</td>\n",
       "      <td>1506826828020</td>\n",
       "      <td>4</td>\n",
       "      <td>3</td>\n",
       "      <td>20</td>\n",
       "      <td>1</td>\n",
       "      <td>20</td>\n",
       "      <td>2</td>\n",
       "    </tr>\n",
       "    <tr>\n",
       "      <th>1</th>\n",
       "      <td>0</td>\n",
       "      <td>1506825423271737</td>\n",
       "      <td>1506825423000</td>\n",
       "      <td>2</td>\n",
       "      <td>68866</td>\n",
       "      <td>1506826858020</td>\n",
       "      <td>4</td>\n",
       "      <td>3</td>\n",
       "      <td>20</td>\n",
       "      <td>1</td>\n",
       "      <td>20</td>\n",
       "      <td>2</td>\n",
       "    </tr>\n",
       "    <tr>\n",
       "      <th>2</th>\n",
       "      <td>1</td>\n",
       "      <td>1506825426267738</td>\n",
       "      <td>1506825426000</td>\n",
       "      <td>2</td>\n",
       "      <td>235840</td>\n",
       "      <td>1506827017951</td>\n",
       "      <td>4</td>\n",
       "      <td>1</td>\n",
       "      <td>17</td>\n",
       "      <td>1</td>\n",
       "      <td>16</td>\n",
       "      <td>2</td>\n",
       "    </tr>\n",
       "    <tr>\n",
       "      <th>3</th>\n",
       "      <td>1</td>\n",
       "      <td>1506825426267738</td>\n",
       "      <td>1506825426000</td>\n",
       "      <td>2</td>\n",
       "      <td>96663</td>\n",
       "      <td>1506827047951</td>\n",
       "      <td>4</td>\n",
       "      <td>1</td>\n",
       "      <td>17</td>\n",
       "      <td>1</td>\n",
       "      <td>16</td>\n",
       "      <td>2</td>\n",
       "    </tr>\n",
       "    <tr>\n",
       "      <th>4</th>\n",
       "      <td>2</td>\n",
       "      <td>1506825435299739</td>\n",
       "      <td>1506825435000</td>\n",
       "      <td>2</td>\n",
       "      <td>119592</td>\n",
       "      <td>1506827090575</td>\n",
       "      <td>4</td>\n",
       "      <td>1</td>\n",
       "      <td>17</td>\n",
       "      <td>1</td>\n",
       "      <td>24</td>\n",
       "      <td>2</td>\n",
       "    </tr>\n",
       "    <tr>\n",
       "      <th>...</th>\n",
       "      <td>...</td>\n",
       "      <td>...</td>\n",
       "      <td>...</td>\n",
       "      <td>...</td>\n",
       "      <td>...</td>\n",
       "      <td>...</td>\n",
       "      <td>...</td>\n",
       "      <td>...</td>\n",
       "      <td>...</td>\n",
       "      <td>...</td>\n",
       "      <td>...</td>\n",
       "      <td>...</td>\n",
       "    </tr>\n",
       "    <tr>\n",
       "      <th>1878</th>\n",
       "      <td>705</td>\n",
       "      <td>1506828968165442</td>\n",
       "      <td>1506828968000</td>\n",
       "      <td>2</td>\n",
       "      <td>119592</td>\n",
       "      <td>1506830912301</td>\n",
       "      <td>4</td>\n",
       "      <td>1</td>\n",
       "      <td>17</td>\n",
       "      <td>1</td>\n",
       "      <td>21</td>\n",
       "      <td>2</td>\n",
       "    </tr>\n",
       "    <tr>\n",
       "      <th>1879</th>\n",
       "      <td>705</td>\n",
       "      <td>1506828968165442</td>\n",
       "      <td>1506828968000</td>\n",
       "      <td>2</td>\n",
       "      <td>284847</td>\n",
       "      <td>1506830942301</td>\n",
       "      <td>4</td>\n",
       "      <td>1</td>\n",
       "      <td>17</td>\n",
       "      <td>1</td>\n",
       "      <td>21</td>\n",
       "      <td>2</td>\n",
       "    </tr>\n",
       "    <tr>\n",
       "      <th>1880</th>\n",
       "      <td>706</td>\n",
       "      <td>1506828979881443</td>\n",
       "      <td>1506828979000</td>\n",
       "      <td>3</td>\n",
       "      <td>108854</td>\n",
       "      <td>1506829027334</td>\n",
       "      <td>4</td>\n",
       "      <td>3</td>\n",
       "      <td>2</td>\n",
       "      <td>1</td>\n",
       "      <td>25</td>\n",
       "      <td>1</td>\n",
       "    </tr>\n",
       "    <tr>\n",
       "      <th>1881</th>\n",
       "      <td>706</td>\n",
       "      <td>1506828979881443</td>\n",
       "      <td>1506828979000</td>\n",
       "      <td>3</td>\n",
       "      <td>96663</td>\n",
       "      <td>1506829095732</td>\n",
       "      <td>4</td>\n",
       "      <td>3</td>\n",
       "      <td>2</td>\n",
       "      <td>1</td>\n",
       "      <td>25</td>\n",
       "      <td>1</td>\n",
       "    </tr>\n",
       "    <tr>\n",
       "      <th>1882</th>\n",
       "      <td>706</td>\n",
       "      <td>1506828979881443</td>\n",
       "      <td>1506828979000</td>\n",
       "      <td>3</td>\n",
       "      <td>68866</td>\n",
       "      <td>1506829125732</td>\n",
       "      <td>4</td>\n",
       "      <td>3</td>\n",
       "      <td>2</td>\n",
       "      <td>1</td>\n",
       "      <td>25</td>\n",
       "      <td>1</td>\n",
       "    </tr>\n",
       "  </tbody>\n",
       "</table>\n",
       "<p>1883 rows × 12 columns</p>\n",
       "</div>"
      ],
      "text/plain": [
       "      user_id        session_id  session_start  session_size  \\\n",
       "0           0  1506825423271737  1506825423000             2   \n",
       "1           0  1506825423271737  1506825423000             2   \n",
       "2           1  1506825426267738  1506825426000             2   \n",
       "3           1  1506825426267738  1506825426000             2   \n",
       "4           2  1506825435299739  1506825435000             2   \n",
       "...       ...               ...            ...           ...   \n",
       "1878      705  1506828968165442  1506828968000             2   \n",
       "1879      705  1506828968165442  1506828968000             2   \n",
       "1880      706  1506828979881443  1506828979000             3   \n",
       "1881      706  1506828979881443  1506828979000             3   \n",
       "1882      706  1506828979881443  1506828979000             3   \n",
       "\n",
       "      click_article_id  click_timestamp  click_environment  click_deviceGroup  \\\n",
       "0               157541    1506826828020                  4                  3   \n",
       "1                68866    1506826858020                  4                  3   \n",
       "2               235840    1506827017951                  4                  1   \n",
       "3                96663    1506827047951                  4                  1   \n",
       "4               119592    1506827090575                  4                  1   \n",
       "...                ...              ...                ...                ...   \n",
       "1878            119592    1506830912301                  4                  1   \n",
       "1879            284847    1506830942301                  4                  1   \n",
       "1880            108854    1506829027334                  4                  3   \n",
       "1881             96663    1506829095732                  4                  3   \n",
       "1882             68866    1506829125732                  4                  3   \n",
       "\n",
       "      click_os  click_country  click_region  click_referrer_type  \n",
       "0           20              1            20                    2  \n",
       "1           20              1            20                    2  \n",
       "2           17              1            16                    2  \n",
       "3           17              1            16                    2  \n",
       "4           17              1            24                    2  \n",
       "...        ...            ...           ...                  ...  \n",
       "1878        17              1            21                    2  \n",
       "1879        17              1            21                    2  \n",
       "1880         2              1            25                    1  \n",
       "1881         2              1            25                    1  \n",
       "1882         2              1            25                    1  \n",
       "\n",
       "[1883 rows x 12 columns]"
      ]
     },
     "execution_count": 16,
     "metadata": {},
     "output_type": "execute_result"
    }
   ],
   "source": [
    "df_2"
   ]
  },
  {
   "cell_type": "code",
   "execution_count": 14,
   "id": "c1d3490a",
   "metadata": {},
   "outputs": [
    {
     "data": {
      "text/plain": [
       "707"
      ]
     },
     "execution_count": 14,
     "metadata": {},
     "output_type": "execute_result"
    }
   ],
   "source": [
    "df_2.user_id.nunique()"
   ]
  },
  {
   "cell_type": "code",
   "execution_count": 18,
   "id": "b296ad7d",
   "metadata": {},
   "outputs": [
    {
     "data": {
      "text/html": [
       "<div>\n",
       "<style scoped>\n",
       "    .dataframe tbody tr th:only-of-type {\n",
       "        vertical-align: middle;\n",
       "    }\n",
       "\n",
       "    .dataframe tbody tr th {\n",
       "        vertical-align: top;\n",
       "    }\n",
       "\n",
       "    .dataframe thead th {\n",
       "        text-align: right;\n",
       "    }\n",
       "</style>\n",
       "<table border=\"1\" class=\"dataframe\">\n",
       "  <thead>\n",
       "    <tr style=\"text-align: right;\">\n",
       "      <th></th>\n",
       "      <th>user_id</th>\n",
       "      <th>session_id</th>\n",
       "      <th>session_start</th>\n",
       "      <th>session_size</th>\n",
       "      <th>click_article_id</th>\n",
       "      <th>click_timestamp</th>\n",
       "      <th>click_environment</th>\n",
       "      <th>click_deviceGroup</th>\n",
       "      <th>click_os</th>\n",
       "      <th>click_country</th>\n",
       "      <th>click_region</th>\n",
       "      <th>click_referrer_type</th>\n",
       "    </tr>\n",
       "  </thead>\n",
       "  <tbody>\n",
       "    <tr>\n",
       "      <th>0</th>\n",
       "      <td>93863</td>\n",
       "      <td>1507865792177843</td>\n",
       "      <td>1507865792000</td>\n",
       "      <td>2</td>\n",
       "      <td>96210</td>\n",
       "      <td>1507865832925</td>\n",
       "      <td>4</td>\n",
       "      <td>3</td>\n",
       "      <td>2</td>\n",
       "      <td>1</td>\n",
       "      <td>21</td>\n",
       "      <td>2</td>\n",
       "    </tr>\n",
       "    <tr>\n",
       "      <th>1</th>\n",
       "      <td>93863</td>\n",
       "      <td>1507865792177843</td>\n",
       "      <td>1507865792000</td>\n",
       "      <td>2</td>\n",
       "      <td>158094</td>\n",
       "      <td>1507865862925</td>\n",
       "      <td>4</td>\n",
       "      <td>3</td>\n",
       "      <td>2</td>\n",
       "      <td>1</td>\n",
       "      <td>21</td>\n",
       "      <td>2</td>\n",
       "    </tr>\n",
       "    <tr>\n",
       "      <th>2</th>\n",
       "      <td>294036</td>\n",
       "      <td>1507865795185844</td>\n",
       "      <td>1507865795000</td>\n",
       "      <td>2</td>\n",
       "      <td>20691</td>\n",
       "      <td>1507865819095</td>\n",
       "      <td>4</td>\n",
       "      <td>3</td>\n",
       "      <td>20</td>\n",
       "      <td>1</td>\n",
       "      <td>9</td>\n",
       "      <td>2</td>\n",
       "    </tr>\n",
       "    <tr>\n",
       "      <th>3</th>\n",
       "      <td>294036</td>\n",
       "      <td>1507865795185844</td>\n",
       "      <td>1507865795000</td>\n",
       "      <td>2</td>\n",
       "      <td>96210</td>\n",
       "      <td>1507865849095</td>\n",
       "      <td>4</td>\n",
       "      <td>3</td>\n",
       "      <td>20</td>\n",
       "      <td>1</td>\n",
       "      <td>9</td>\n",
       "      <td>2</td>\n",
       "    </tr>\n",
       "    <tr>\n",
       "      <th>4</th>\n",
       "      <td>77136</td>\n",
       "      <td>1507865796257845</td>\n",
       "      <td>1507865796000</td>\n",
       "      <td>2</td>\n",
       "      <td>336245</td>\n",
       "      <td>1507866133178</td>\n",
       "      <td>4</td>\n",
       "      <td>3</td>\n",
       "      <td>2</td>\n",
       "      <td>1</td>\n",
       "      <td>25</td>\n",
       "      <td>2</td>\n",
       "    </tr>\n",
       "    <tr>\n",
       "      <th>...</th>\n",
       "      <td>...</td>\n",
       "      <td>...</td>\n",
       "      <td>...</td>\n",
       "      <td>...</td>\n",
       "      <td>...</td>\n",
       "      <td>...</td>\n",
       "      <td>...</td>\n",
       "      <td>...</td>\n",
       "      <td>...</td>\n",
       "      <td>...</td>\n",
       "      <td>...</td>\n",
       "      <td>...</td>\n",
       "    </tr>\n",
       "    <tr>\n",
       "      <th>1307</th>\n",
       "      <td>15107</td>\n",
       "      <td>1507872960434128</td>\n",
       "      <td>1507872960000</td>\n",
       "      <td>4</td>\n",
       "      <td>20691</td>\n",
       "      <td>1507873325254</td>\n",
       "      <td>4</td>\n",
       "      <td>4</td>\n",
       "      <td>2</td>\n",
       "      <td>1</td>\n",
       "      <td>14</td>\n",
       "      <td>1</td>\n",
       "    </tr>\n",
       "    <tr>\n",
       "      <th>1308</th>\n",
       "      <td>15107</td>\n",
       "      <td>1507872960434128</td>\n",
       "      <td>1507872960000</td>\n",
       "      <td>4</td>\n",
       "      <td>327984</td>\n",
       "      <td>1507873616575</td>\n",
       "      <td>4</td>\n",
       "      <td>4</td>\n",
       "      <td>2</td>\n",
       "      <td>1</td>\n",
       "      <td>14</td>\n",
       "      <td>1</td>\n",
       "    </tr>\n",
       "    <tr>\n",
       "      <th>1309</th>\n",
       "      <td>15107</td>\n",
       "      <td>1507872960434128</td>\n",
       "      <td>1507872960000</td>\n",
       "      <td>4</td>\n",
       "      <td>172760</td>\n",
       "      <td>1507873646575</td>\n",
       "      <td>4</td>\n",
       "      <td>4</td>\n",
       "      <td>2</td>\n",
       "      <td>1</td>\n",
       "      <td>14</td>\n",
       "      <td>1</td>\n",
       "    </tr>\n",
       "    <tr>\n",
       "      <th>1310</th>\n",
       "      <td>294270</td>\n",
       "      <td>1507872968214129</td>\n",
       "      <td>1507872968000</td>\n",
       "      <td>2</td>\n",
       "      <td>96210</td>\n",
       "      <td>1507873274995</td>\n",
       "      <td>4</td>\n",
       "      <td>3</td>\n",
       "      <td>2</td>\n",
       "      <td>1</td>\n",
       "      <td>25</td>\n",
       "      <td>2</td>\n",
       "    </tr>\n",
       "    <tr>\n",
       "      <th>1311</th>\n",
       "      <td>294270</td>\n",
       "      <td>1507872968214129</td>\n",
       "      <td>1507872968000</td>\n",
       "      <td>2</td>\n",
       "      <td>336245</td>\n",
       "      <td>1507873304995</td>\n",
       "      <td>4</td>\n",
       "      <td>3</td>\n",
       "      <td>2</td>\n",
       "      <td>1</td>\n",
       "      <td>25</td>\n",
       "      <td>2</td>\n",
       "    </tr>\n",
       "  </tbody>\n",
       "</table>\n",
       "<p>2988181 rows × 12 columns</p>\n",
       "</div>"
      ],
      "text/plain": [
       "     user_id        session_id  session_start session_size click_article_id  \\\n",
       "0      93863  1507865792177843  1507865792000            2            96210   \n",
       "1      93863  1507865792177843  1507865792000            2           158094   \n",
       "2     294036  1507865795185844  1507865795000            2            20691   \n",
       "3     294036  1507865795185844  1507865795000            2            96210   \n",
       "4      77136  1507865796257845  1507865796000            2           336245   \n",
       "...      ...               ...            ...          ...              ...   \n",
       "1307   15107  1507872960434128  1507872960000            4            20691   \n",
       "1308   15107  1507872960434128  1507872960000            4           327984   \n",
       "1309   15107  1507872960434128  1507872960000            4           172760   \n",
       "1310  294270  1507872968214129  1507872968000            2            96210   \n",
       "1311  294270  1507872968214129  1507872968000            2           336245   \n",
       "\n",
       "     click_timestamp click_environment click_deviceGroup click_os  \\\n",
       "0      1507865832925                 4                 3        2   \n",
       "1      1507865862925                 4                 3        2   \n",
       "2      1507865819095                 4                 3       20   \n",
       "3      1507865849095                 4                 3       20   \n",
       "4      1507866133178                 4                 3        2   \n",
       "...              ...               ...               ...      ...   \n",
       "1307   1507873325254                 4                 4        2   \n",
       "1308   1507873616575                 4                 4        2   \n",
       "1309   1507873646575                 4                 4        2   \n",
       "1310   1507873274995                 4                 3        2   \n",
       "1311   1507873304995                 4                 3        2   \n",
       "\n",
       "     click_country click_region click_referrer_type  \n",
       "0                1           21                   2  \n",
       "1                1           21                   2  \n",
       "2                1            9                   2  \n",
       "3                1            9                   2  \n",
       "4                1           25                   2  \n",
       "...            ...          ...                 ...  \n",
       "1307             1           14                   1  \n",
       "1308             1           14                   1  \n",
       "1309             1           14                   1  \n",
       "1310             1           25                   2  \n",
       "1311             1           25                   2  \n",
       "\n",
       "[2988181 rows x 12 columns]"
      ]
     },
     "execution_count": 18,
     "metadata": {},
     "output_type": "execute_result"
    }
   ],
   "source": [
    "df"
   ]
  },
  {
   "cell_type": "code",
   "execution_count": 19,
   "id": "cac43891",
   "metadata": {},
   "outputs": [
    {
     "data": {
      "text/plain": [
       "385"
      ]
     },
     "execution_count": 19,
     "metadata": {},
     "output_type": "execute_result"
    }
   ],
   "source": [
    "len(lisdir)"
   ]
  },
  {
   "cell_type": "markdown",
   "id": "5f601d1c",
   "metadata": {},
   "source": [
    "## Observation et regroupement des je de données Clicks.csv"
   ]
  },
  {
   "cell_type": "code",
   "execution_count": 11,
   "id": "5eeaecc8",
   "metadata": {},
   "outputs": [
    {
     "name": "stdout",
     "output_type": "stream",
     "text": [
      "Une fois regroupé, le jeu de données contenant l'ensemble des clicks utilisateurs contient 2988181 lignes.\n",
      "CPU times: user 24.6 s, sys: 9.43 s, total: 34 s\n",
      "Wall time: 34.3 s\n"
     ]
    },
    {
     "data": {
      "text/html": [
       "<div>\n",
       "<style scoped>\n",
       "    .dataframe tbody tr th:only-of-type {\n",
       "        vertical-align: middle;\n",
       "    }\n",
       "\n",
       "    .dataframe tbody tr th {\n",
       "        vertical-align: top;\n",
       "    }\n",
       "\n",
       "    .dataframe thead th {\n",
       "        text-align: right;\n",
       "    }\n",
       "</style>\n",
       "<table border=\"1\" class=\"dataframe\">\n",
       "  <thead>\n",
       "    <tr style=\"text-align: right;\">\n",
       "      <th></th>\n",
       "      <th>user_id</th>\n",
       "      <th>session_id</th>\n",
       "      <th>session_start</th>\n",
       "      <th>session_size</th>\n",
       "      <th>click_article_id</th>\n",
       "      <th>click_timestamp</th>\n",
       "      <th>click_environment</th>\n",
       "      <th>click_deviceGroup</th>\n",
       "      <th>click_os</th>\n",
       "      <th>click_country</th>\n",
       "      <th>click_region</th>\n",
       "      <th>click_referrer_type</th>\n",
       "    </tr>\n",
       "  </thead>\n",
       "  <tbody>\n",
       "    <tr>\n",
       "      <th>0</th>\n",
       "      <td>93863</td>\n",
       "      <td>1507865792177843</td>\n",
       "      <td>1507865792000</td>\n",
       "      <td>2</td>\n",
       "      <td>96210</td>\n",
       "      <td>1507865832925</td>\n",
       "      <td>4</td>\n",
       "      <td>3</td>\n",
       "      <td>2</td>\n",
       "      <td>1</td>\n",
       "      <td>21</td>\n",
       "      <td>2</td>\n",
       "    </tr>\n",
       "    <tr>\n",
       "      <th>1</th>\n",
       "      <td>93863</td>\n",
       "      <td>1507865792177843</td>\n",
       "      <td>1507865792000</td>\n",
       "      <td>2</td>\n",
       "      <td>158094</td>\n",
       "      <td>1507865862925</td>\n",
       "      <td>4</td>\n",
       "      <td>3</td>\n",
       "      <td>2</td>\n",
       "      <td>1</td>\n",
       "      <td>21</td>\n",
       "      <td>2</td>\n",
       "    </tr>\n",
       "    <tr>\n",
       "      <th>2</th>\n",
       "      <td>294036</td>\n",
       "      <td>1507865795185844</td>\n",
       "      <td>1507865795000</td>\n",
       "      <td>2</td>\n",
       "      <td>20691</td>\n",
       "      <td>1507865819095</td>\n",
       "      <td>4</td>\n",
       "      <td>3</td>\n",
       "      <td>20</td>\n",
       "      <td>1</td>\n",
       "      <td>9</td>\n",
       "      <td>2</td>\n",
       "    </tr>\n",
       "    <tr>\n",
       "      <th>3</th>\n",
       "      <td>294036</td>\n",
       "      <td>1507865795185844</td>\n",
       "      <td>1507865795000</td>\n",
       "      <td>2</td>\n",
       "      <td>96210</td>\n",
       "      <td>1507865849095</td>\n",
       "      <td>4</td>\n",
       "      <td>3</td>\n",
       "      <td>20</td>\n",
       "      <td>1</td>\n",
       "      <td>9</td>\n",
       "      <td>2</td>\n",
       "    </tr>\n",
       "    <tr>\n",
       "      <th>4</th>\n",
       "      <td>77136</td>\n",
       "      <td>1507865796257845</td>\n",
       "      <td>1507865796000</td>\n",
       "      <td>2</td>\n",
       "      <td>336245</td>\n",
       "      <td>1507866133178</td>\n",
       "      <td>4</td>\n",
       "      <td>3</td>\n",
       "      <td>2</td>\n",
       "      <td>1</td>\n",
       "      <td>25</td>\n",
       "      <td>2</td>\n",
       "    </tr>\n",
       "  </tbody>\n",
       "</table>\n",
       "</div>"
      ],
      "text/plain": [
       "  user_id        session_id  session_start session_size click_article_id  \\\n",
       "0   93863  1507865792177843  1507865792000            2            96210   \n",
       "1   93863  1507865792177843  1507865792000            2           158094   \n",
       "2  294036  1507865795185844  1507865795000            2            20691   \n",
       "3  294036  1507865795185844  1507865795000            2            96210   \n",
       "4   77136  1507865796257845  1507865796000            2           336245   \n",
       "\n",
       "  click_timestamp click_environment click_deviceGroup click_os click_country  \\\n",
       "0   1507865832925                 4                 3        2             1   \n",
       "1   1507865862925                 4                 3        2             1   \n",
       "2   1507865819095                 4                 3       20             1   \n",
       "3   1507865849095                 4                 3       20             1   \n",
       "4   1507866133178                 4                 3        2             1   \n",
       "\n",
       "  click_region click_referrer_type  \n",
       "0           21                   2  \n",
       "1           21                   2  \n",
       "2            9                   2  \n",
       "3            9                   2  \n",
       "4           25                   2  "
      ]
     },
     "execution_count": 11,
     "metadata": {},
     "output_type": "execute_result"
    }
   ],
   "source": [
    "%%time\n",
    "import os\n",
    "path_dir = './news-portal-user-interactions-by-globocom/clicks/'\n",
    "lisdir = os.listdir(path_dir)\n",
    "\n",
    "len(f'Le répertoire clicks.zip contient {len(lisdir)} fichiers .csv.')\n",
    "df = pd.DataFrame()\n",
    "for file in lisdir:\n",
    "    df = pd.concat([df,pd.read_csv(path_dir+file)])\n",
    "    \n",
    "print(f\"Une fois regroupé, le jeu de données contenant l'ensemble des clicks utilisateurs contient {len(df)} lignes.\")\n",
    "df.head()"
   ]
  },
  {
   "cell_type": "code",
   "execution_count": null,
   "id": "9e6afd84",
   "metadata": {},
   "outputs": [],
   "source": [
    "df"
   ]
  },
  {
   "cell_type": "markdown",
   "id": "f8652b43",
   "metadata": {},
   "source": [
    "Nous pouvons ici appercevoir le jeu de données regroupé par utilisateur."
   ]
  },
  {
   "cell_type": "code",
   "execution_count": 140,
   "id": "98930e28",
   "metadata": {},
   "outputs": [
    {
     "name": "stdout",
     "output_type": "stream",
     "text": [
      "CPU times: user 5.55 s, sys: 294 ms, total: 5.85 s\n",
      "Wall time: 5.85 s\n"
     ]
    }
   ],
   "source": [
    "%%time\n",
    "df_groupby_user_id = df.groupby(['user_id', 'click_article_id']).sum()"
   ]
  },
  {
   "cell_type": "markdown",
   "id": "58fba46d",
   "metadata": {},
   "source": [
    "Par la suite nous utiliserons le jeu de données regroupant l'id des articles lu par les utilisateurs."
   ]
  },
  {
   "cell_type": "code",
   "execution_count": 45,
   "id": "0ff39c4c",
   "metadata": {},
   "outputs": [
    {
     "name": "stdout",
     "output_type": "stream",
     "text": [
      "En moyenne, les utilisateurs lisent 9 articles.\n",
      "CPU times: user 3.5 s, sys: 57 ms, total: 3.56 s\n",
      "Wall time: 3.57 s\n"
     ]
    },
    {
     "data": {
      "text/html": [
       "<div>\n",
       "<style scoped>\n",
       "    .dataframe tbody tr th:only-of-type {\n",
       "        vertical-align: middle;\n",
       "    }\n",
       "\n",
       "    .dataframe tbody tr th {\n",
       "        vertical-align: top;\n",
       "    }\n",
       "\n",
       "    .dataframe thead th {\n",
       "        text-align: right;\n",
       "    }\n",
       "</style>\n",
       "<table border=\"1\" class=\"dataframe\">\n",
       "  <thead>\n",
       "    <tr style=\"text-align: right;\">\n",
       "      <th></th>\n",
       "      <th>LIST_click_article_id</th>\n",
       "    </tr>\n",
       "    <tr>\n",
       "      <th>user_id</th>\n",
       "      <th></th>\n",
       "    </tr>\n",
       "  </thead>\n",
       "  <tbody>\n",
       "    <tr>\n",
       "      <th>0</th>\n",
       "      <td>[157541, 68866, 96755, 313996, 160158, 233470,...</td>\n",
       "    </tr>\n",
       "    <tr>\n",
       "      <th>1</th>\n",
       "      <td>[327984, 183176, 235840, 96663, 59758, 160474,...</td>\n",
       "    </tr>\n",
       "    <tr>\n",
       "      <th>2</th>\n",
       "      <td>[119592, 30970, 30760, 209122]</td>\n",
       "    </tr>\n",
       "    <tr>\n",
       "      <th>3</th>\n",
       "      <td>[236444, 234318, 233688, 237452, 235745, 12096...</td>\n",
       "    </tr>\n",
       "    <tr>\n",
       "      <th>4</th>\n",
       "      <td>[336499, 271261, 48915, 44488, 195887, 195084,...</td>\n",
       "    </tr>\n",
       "    <tr>\n",
       "      <th>...</th>\n",
       "      <td>...</td>\n",
       "    </tr>\n",
       "    <tr>\n",
       "      <th>322892</th>\n",
       "      <td>[42567, 39894]</td>\n",
       "    </tr>\n",
       "    <tr>\n",
       "      <th>322893</th>\n",
       "      <td>[50644, 36162]</td>\n",
       "    </tr>\n",
       "    <tr>\n",
       "      <th>322894</th>\n",
       "      <td>[36162, 168401]</td>\n",
       "    </tr>\n",
       "    <tr>\n",
       "      <th>322895</th>\n",
       "      <td>[289197, 63746]</td>\n",
       "    </tr>\n",
       "    <tr>\n",
       "      <th>322896</th>\n",
       "      <td>[30760, 157507]</td>\n",
       "    </tr>\n",
       "  </tbody>\n",
       "</table>\n",
       "<p>322897 rows × 1 columns</p>\n",
       "</div>"
      ],
      "text/plain": [
       "                                     LIST_click_article_id\n",
       "user_id                                                   \n",
       "0        [157541, 68866, 96755, 313996, 160158, 233470,...\n",
       "1        [327984, 183176, 235840, 96663, 59758, 160474,...\n",
       "2                           [119592, 30970, 30760, 209122]\n",
       "3        [236444, 234318, 233688, 237452, 235745, 12096...\n",
       "4        [336499, 271261, 48915, 44488, 195887, 195084,...\n",
       "...                                                    ...\n",
       "322892                                      [42567, 39894]\n",
       "322893                                      [50644, 36162]\n",
       "322894                                     [36162, 168401]\n",
       "322895                                     [289197, 63746]\n",
       "322896                                     [30760, 157507]\n",
       "\n",
       "[322897 rows x 1 columns]"
      ]
     },
     "execution_count": 45,
     "metadata": {},
     "output_type": "execute_result"
    }
   ],
   "source": [
    "%%time\n",
    "df_ = df.groupby('user_id').agg(\n",
    "    LIST_click_article_id = ('click_article_id', lambda x: list(x)),\n",
    ")\n",
    "\n",
    "print(f\"En moyenne, les utilisateurs lisent {int(df_.LIST_click_article_id.apply(lambda x: len(x)).mean())} articles.\")\n",
    "df_"
   ]
  },
  {
   "cell_type": "markdown",
   "id": "7297b0bf",
   "metadata": {},
   "source": [
    "## Observation des articles sous forme d'embeding"
   ]
  },
  {
   "cell_type": "code",
   "execution_count": 5,
   "id": "0dd03a87",
   "metadata": {},
   "outputs": [
    {
     "name": "stdout",
     "output_type": "stream",
     "text": [
      "CPU times: user 1.61 ms, sys: 79.3 ms, total: 81 ms\n",
      "Wall time: 78.7 ms\n"
     ]
    }
   ],
   "source": [
    "%%time\n",
    "import pickle\n",
    "\n",
    "with open('./news-portal-user-interactions-by-globocom/articles_embeddings.pickle', 'rb') as f1:\n",
    "    articles = pickle.load(f1)"
   ]
  },
  {
   "cell_type": "code",
   "execution_count": 7,
   "id": "a362b41e",
   "metadata": {},
   "outputs": [
    {
     "data": {
      "text/plain": [
       "(364047, 250)"
      ]
     },
     "execution_count": 7,
     "metadata": {},
     "output_type": "execute_result"
    }
   ],
   "source": [
    "articles.shape"
   ]
  },
  {
   "cell_type": "code",
   "execution_count": 54,
   "id": "4cb058ae",
   "metadata": {},
   "outputs": [
    {
     "name": "stderr",
     "output_type": "stream",
     "text": [
      "/Users/kevinduranty/miniforge3/envs/p8/lib/python3.8/site-packages/sklearn/manifold/_t_sne.py:790: FutureWarning: The default learning rate in TSNE will change from 200.0 to 'auto' in 1.2.\n",
      "  warnings.warn(\n"
     ]
    },
    {
     "name": "stdout",
     "output_type": "stream",
     "text": [
      "(50000, 2)\n",
      "CPU times: user 17min 42s, sys: 3min 29s, total: 21min 12s\n",
      "Wall time: 3min 54s\n"
     ]
    }
   ],
   "source": [
    "%%time\n",
    "import pickle\n",
    "\n",
    "with open('./news-portal-user-interactions-by-globocom/articles_embeddings.pickle', 'rb') as f1:\n",
    "    articles = pickle.load(f1)\n",
    "\n",
    "from sklearn.manifold import TSNE\n",
    "\n",
    "tsne = TSNE(n_components=2, perplexity=30, n_iter=2000, init='random', random_state=6)\n",
    "X_tsne = tsne.fit_transform(articles[:50000])\n",
    "\n",
    "df_tsne = pd.DataFrame(X_tsne, columns=['tsne1', 'tsne2'])\n",
    "print(df_tsne.shape)"
   ]
  },
  {
   "cell_type": "code",
   "execution_count": 60,
   "id": "42a31320",
   "metadata": {},
   "outputs": [
    {
     "data": {
      "text/plain": [
       "'euclidean'"
      ]
     },
     "execution_count": 60,
     "metadata": {},
     "output_type": "execute_result"
    }
   ],
   "source": [
    "tsne."
   ]
  },
  {
   "cell_type": "code",
   "execution_count": 39,
   "id": "544258fb",
   "metadata": {},
   "outputs": [
    {
     "data": {
      "image/png": "[encoded data removed]",
      "text/plain": [
       "<Figure size 864x576 with 1 Axes>"
      ]
     },
     "metadata": {
      "needs_background": "light"
     },
     "output_type": "display_data"
    },
    {
     "name": "stdout",
     "output_type": "stream",
     "text": [
      "CPU times: user 1.07 s, sys: 12.9 ms, total: 1.08 s\n",
      "Wall time: 545 ms\n"
     ]
    }
   ],
   "source": [
    "%%time\n",
    "plt.figure(figsize=(12,8))\n",
    "\n",
    "df_tsne[\"category_id\"] = df_1[\"category_id\"].head(50000)\n",
    "\n",
    "sns.scatterplot(\n",
    "    x=\"tsne1\", y=\"tsne2\",hue=\"category_id\",\n",
    "    palette=sns.color_palette('Set2',df_1[\"category_id\"].head(50000).nunique()),\n",
    "    data=df_tsne,s=50, alpha=0.6, legend=None)\n",
    "\n",
    "plt.title('TSNE', fontsize = 30, pad = 35, fontweight = 'bold')\n",
    "plt.xlabel('tsne1', fontsize = 26, fontweight = 'bold')\n",
    "plt.ylabel('tsne2', fontsize = 26, fontweight = 'bold') \n",
    "\n",
    "plt.show()"
   ]
  },
  {
   "cell_type": "code",
   "execution_count": 75,
   "id": "6dbae8f8",
   "metadata": {},
   "outputs": [
    {
     "data": {
      "image/png": "[encoded data removed]",
      "text/plain": [
       "<Figure size 1080x432 with 1 Axes>"
      ]
     },
     "metadata": {
      "needs_background": "light"
     },
     "output_type": "display_data"
    }
   ],
   "source": [
    "%%time\n",
    "plt.figure(figsize=(15,6))\n",
    "df.click_article_id.hist(bins=df.click_article_id.nunique())\n",
    "plt.show()"
   ]
  },
  {
   "cell_type": "code",
   "execution_count": 77,
   "id": "39bf4611",
   "metadata": {},
   "outputs": [
    {
     "data": {
      "text/html": [
       "<div>\n",
       "<style scoped>\n",
       "    .dataframe tbody tr th:only-of-type {\n",
       "        vertical-align: middle;\n",
       "    }\n",
       "\n",
       "    .dataframe tbody tr th {\n",
       "        vertical-align: top;\n",
       "    }\n",
       "\n",
       "    .dataframe thead th {\n",
       "        text-align: right;\n",
       "    }\n",
       "</style>\n",
       "<table border=\"1\" class=\"dataframe\">\n",
       "  <thead>\n",
       "    <tr style=\"text-align: right;\">\n",
       "      <th></th>\n",
       "      <th>user_id</th>\n",
       "      <th>session_id</th>\n",
       "      <th>session_start</th>\n",
       "      <th>session_size</th>\n",
       "      <th>click_article_id</th>\n",
       "      <th>click_timestamp</th>\n",
       "      <th>click_environment</th>\n",
       "      <th>click_deviceGroup</th>\n",
       "      <th>click_os</th>\n",
       "      <th>click_country</th>\n",
       "      <th>click_region</th>\n",
       "      <th>click_referrer_type</th>\n",
       "    </tr>\n",
       "  </thead>\n",
       "  <tbody>\n",
       "    <tr>\n",
       "      <th>0</th>\n",
       "      <td>93863</td>\n",
       "      <td>1507865792177843</td>\n",
       "      <td>1507865792000</td>\n",
       "      <td>2</td>\n",
       "      <td>96210</td>\n",
       "      <td>1507865832925</td>\n",
       "      <td>4</td>\n",
       "      <td>3</td>\n",
       "      <td>2</td>\n",
       "      <td>1</td>\n",
       "      <td>21</td>\n",
       "      <td>2</td>\n",
       "    </tr>\n",
       "    <tr>\n",
       "      <th>1</th>\n",
       "      <td>93863</td>\n",
       "      <td>1507865792177843</td>\n",
       "      <td>1507865792000</td>\n",
       "      <td>2</td>\n",
       "      <td>158094</td>\n",
       "      <td>1507865862925</td>\n",
       "      <td>4</td>\n",
       "      <td>3</td>\n",
       "      <td>2</td>\n",
       "      <td>1</td>\n",
       "      <td>21</td>\n",
       "      <td>2</td>\n",
       "    </tr>\n",
       "    <tr>\n",
       "      <th>2</th>\n",
       "      <td>294036</td>\n",
       "      <td>1507865795185844</td>\n",
       "      <td>1507865795000</td>\n",
       "      <td>2</td>\n",
       "      <td>20691</td>\n",
       "      <td>1507865819095</td>\n",
       "      <td>4</td>\n",
       "      <td>3</td>\n",
       "      <td>20</td>\n",
       "      <td>1</td>\n",
       "      <td>9</td>\n",
       "      <td>2</td>\n",
       "    </tr>\n",
       "    <tr>\n",
       "      <th>3</th>\n",
       "      <td>294036</td>\n",
       "      <td>1507865795185844</td>\n",
       "      <td>1507865795000</td>\n",
       "      <td>2</td>\n",
       "      <td>96210</td>\n",
       "      <td>1507865849095</td>\n",
       "      <td>4</td>\n",
       "      <td>3</td>\n",
       "      <td>20</td>\n",
       "      <td>1</td>\n",
       "      <td>9</td>\n",
       "      <td>2</td>\n",
       "    </tr>\n",
       "    <tr>\n",
       "      <th>4</th>\n",
       "      <td>77136</td>\n",
       "      <td>1507865796257845</td>\n",
       "      <td>1507865796000</td>\n",
       "      <td>2</td>\n",
       "      <td>336245</td>\n",
       "      <td>1507866133178</td>\n",
       "      <td>4</td>\n",
       "      <td>3</td>\n",
       "      <td>2</td>\n",
       "      <td>1</td>\n",
       "      <td>25</td>\n",
       "      <td>2</td>\n",
       "    </tr>\n",
       "    <tr>\n",
       "      <th>...</th>\n",
       "      <td>...</td>\n",
       "      <td>...</td>\n",
       "      <td>...</td>\n",
       "      <td>...</td>\n",
       "      <td>...</td>\n",
       "      <td>...</td>\n",
       "      <td>...</td>\n",
       "      <td>...</td>\n",
       "      <td>...</td>\n",
       "      <td>...</td>\n",
       "      <td>...</td>\n",
       "      <td>...</td>\n",
       "    </tr>\n",
       "    <tr>\n",
       "      <th>1307</th>\n",
       "      <td>15107</td>\n",
       "      <td>1507872960434128</td>\n",
       "      <td>1507872960000</td>\n",
       "      <td>4</td>\n",
       "      <td>20691</td>\n",
       "      <td>1507873325254</td>\n",
       "      <td>4</td>\n",
       "      <td>4</td>\n",
       "      <td>2</td>\n",
       "      <td>1</td>\n",
       "      <td>14</td>\n",
       "      <td>1</td>\n",
       "    </tr>\n",
       "    <tr>\n",
       "      <th>1308</th>\n",
       "      <td>15107</td>\n",
       "      <td>1507872960434128</td>\n",
       "      <td>1507872960000</td>\n",
       "      <td>4</td>\n",
       "      <td>327984</td>\n",
       "      <td>1507873616575</td>\n",
       "      <td>4</td>\n",
       "      <td>4</td>\n",
       "      <td>2</td>\n",
       "      <td>1</td>\n",
       "      <td>14</td>\n",
       "      <td>1</td>\n",
       "    </tr>\n",
       "    <tr>\n",
       "      <th>1309</th>\n",
       "      <td>15107</td>\n",
       "      <td>1507872960434128</td>\n",
       "      <td>1507872960000</td>\n",
       "      <td>4</td>\n",
       "      <td>172760</td>\n",
       "      <td>1507873646575</td>\n",
       "      <td>4</td>\n",
       "      <td>4</td>\n",
       "      <td>2</td>\n",
       "      <td>1</td>\n",
       "      <td>14</td>\n",
       "      <td>1</td>\n",
       "    </tr>\n",
       "    <tr>\n",
       "      <th>1310</th>\n",
       "      <td>294270</td>\n",
       "      <td>1507872968214129</td>\n",
       "      <td>1507872968000</td>\n",
       "      <td>2</td>\n",
       "      <td>96210</td>\n",
       "      <td>1507873274995</td>\n",
       "      <td>4</td>\n",
       "      <td>3</td>\n",
       "      <td>2</td>\n",
       "      <td>1</td>\n",
       "      <td>25</td>\n",
       "      <td>2</td>\n",
       "    </tr>\n",
       "    <tr>\n",
       "      <th>1311</th>\n",
       "      <td>294270</td>\n",
       "      <td>1507872968214129</td>\n",
       "      <td>1507872968000</td>\n",
       "      <td>2</td>\n",
       "      <td>336245</td>\n",
       "      <td>1507873304995</td>\n",
       "      <td>4</td>\n",
       "      <td>3</td>\n",
       "      <td>2</td>\n",
       "      <td>1</td>\n",
       "      <td>25</td>\n",
       "      <td>2</td>\n",
       "    </tr>\n",
       "  </tbody>\n",
       "</table>\n",
       "<p>2988181 rows × 12 columns</p>\n",
       "</div>"
      ],
      "text/plain": [
       "     user_id        session_id  session_start session_size click_article_id  \\\n",
       "0      93863  1507865792177843  1507865792000            2            96210   \n",
       "1      93863  1507865792177843  1507865792000            2           158094   \n",
       "2     294036  1507865795185844  1507865795000            2            20691   \n",
       "3     294036  1507865795185844  1507865795000            2            96210   \n",
       "4      77136  1507865796257845  1507865796000            2           336245   \n",
       "...      ...               ...            ...          ...              ...   \n",
       "1307   15107  1507872960434128  1507872960000            4            20691   \n",
       "1308   15107  1507872960434128  1507872960000            4           327984   \n",
       "1309   15107  1507872960434128  1507872960000            4           172760   \n",
       "1310  294270  1507872968214129  1507872968000            2            96210   \n",
       "1311  294270  1507872968214129  1507872968000            2           336245   \n",
       "\n",
       "     click_timestamp click_environment click_deviceGroup click_os  \\\n",
       "0      1507865832925                 4                 3        2   \n",
       "1      1507865862925                 4                 3        2   \n",
       "2      1507865819095                 4                 3       20   \n",
       "3      1507865849095                 4                 3       20   \n",
       "4      1507866133178                 4                 3        2   \n",
       "...              ...               ...               ...      ...   \n",
       "1307   1507873325254                 4                 4        2   \n",
       "1308   1507873616575                 4                 4        2   \n",
       "1309   1507873646575                 4                 4        2   \n",
       "1310   1507873274995                 4                 3        2   \n",
       "1311   1507873304995                 4                 3        2   \n",
       "\n",
       "     click_country click_region click_referrer_type  \n",
       "0                1           21                   2  \n",
       "1                1           21                   2  \n",
       "2                1            9                   2  \n",
       "3                1            9                   2  \n",
       "4                1           25                   2  \n",
       "...            ...          ...                 ...  \n",
       "1307             1           14                   1  \n",
       "1308             1           14                   1  \n",
       "1309             1           14                   1  \n",
       "1310             1           25                   2  \n",
       "1311             1           25                   2  \n",
       "\n",
       "[2988181 rows x 12 columns]"
      ]
     },
     "execution_count": 77,
     "metadata": {},
     "output_type": "execute_result"
    }
   ],
   "source": [
    "df"
   ]
  },
  {
   "cell_type": "code",
   "execution_count": 79,
   "id": "3df52868",
   "metadata": {},
   "outputs": [
    {
     "ename": "KeyboardInterrupt",
     "evalue": "",
     "output_type": "error",
     "traceback": [
      "\u001b[0;31m---------------------------------------------------------------------------\u001b[0m",
      "\u001b[0;31mKeyboardInterrupt\u001b[0m                         Traceback (most recent call last)",
      "Input \u001b[0;32mIn [79]\u001b[0m, in \u001b[0;36m<module>\u001b[0;34m\u001b[0m\n\u001b[0;32m----> 1\u001b[0m \u001b[43mdf\u001b[49m\u001b[38;5;241;43m.\u001b[39;49m\u001b[43msession_start\u001b[49m\u001b[38;5;241;43m.\u001b[39;49m\u001b[43mapply\u001b[49m\u001b[43m(\u001b[49m\u001b[38;5;28;43;01mlambda\u001b[39;49;00m\u001b[43m \u001b[49m\u001b[43mx\u001b[49m\u001b[43m:\u001b[49m\u001b[43m \u001b[49m\u001b[43mtime\u001b[49m\u001b[38;5;241;43m.\u001b[39;49m\u001b[43mlocaltime\u001b[49m\u001b[43m(\u001b[49m\u001b[43mx\u001b[49m\u001b[38;5;241;43m/\u001b[39;49m\u001b[38;5;241;43m/\u001b[39;49m\u001b[38;5;241;43m1000\u001b[39;49m\u001b[43m)\u001b[49m\u001b[43m[\u001b[49m\u001b[38;5;241;43m1\u001b[39;49m\u001b[43m:\u001b[49m\u001b[38;5;241;43m3\u001b[39;49m\u001b[43m]\u001b[49m\u001b[43m)\u001b[49m\u001b[38;5;241;43m.\u001b[39;49m\u001b[43mhist\u001b[49m\u001b[43m(\u001b[49m\u001b[43m)\u001b[49m\n",
      "File \u001b[0;32m~/miniforge3/envs/p8/lib/python3.8/site-packages/pandas/plotting/_core.py:100\u001b[0m, in \u001b[0;36mhist_series\u001b[0;34m(self, by, ax, grid, xlabelsize, xrot, ylabelsize, yrot, figsize, bins, backend, legend, **kwargs)\u001b[0m\n\u001b[1;32m     48\u001b[0m \u001b[38;5;124;03m\"\"\"\u001b[39;00m\n\u001b[1;32m     49\u001b[0m \u001b[38;5;124;03mDraw histogram of the input series using matplotlib.\u001b[39;00m\n\u001b[1;32m     50\u001b[0m \n\u001b[0;32m   (...)\u001b[0m\n\u001b[1;32m     97\u001b[0m \u001b[38;5;124;03mmatplotlib.axes.Axes.hist : Plot a histogram using matplotlib.\u001b[39;00m\n\u001b[1;32m     98\u001b[0m \u001b[38;5;124;03m\"\"\"\u001b[39;00m\n\u001b[1;32m     99\u001b[0m plot_backend \u001b[38;5;241m=\u001b[39m _get_plot_backend(backend)\n\u001b[0;32m--> 100\u001b[0m \u001b[38;5;28;01mreturn\u001b[39;00m \u001b[43mplot_backend\u001b[49m\u001b[38;5;241;43m.\u001b[39;49m\u001b[43mhist_series\u001b[49m\u001b[43m(\u001b[49m\n\u001b[1;32m    101\u001b[0m \u001b[43m    \u001b[49m\u001b[38;5;28;43mself\u001b[39;49m\u001b[43m,\u001b[49m\n\u001b[1;32m    102\u001b[0m \u001b[43m    \u001b[49m\u001b[43mby\u001b[49m\u001b[38;5;241;43m=\u001b[39;49m\u001b[43mby\u001b[49m\u001b[43m,\u001b[49m\n\u001b[1;32m    103\u001b[0m \u001b[43m    \u001b[49m\u001b[43max\u001b[49m\u001b[38;5;241;43m=\u001b[39;49m\u001b[43max\u001b[49m\u001b[43m,\u001b[49m\n\u001b[1;32m    104\u001b[0m \u001b[43m    \u001b[49m\u001b[43mgrid\u001b[49m\u001b[38;5;241;43m=\u001b[39;49m\u001b[43mgrid\u001b[49m\u001b[43m,\u001b[49m\n\u001b[1;32m    105\u001b[0m \u001b[43m    \u001b[49m\u001b[43mxlabelsize\u001b[49m\u001b[38;5;241;43m=\u001b[39;49m\u001b[43mxlabelsize\u001b[49m\u001b[43m,\u001b[49m\n\u001b[1;32m    106\u001b[0m \u001b[43m    \u001b[49m\u001b[43mxrot\u001b[49m\u001b[38;5;241;43m=\u001b[39;49m\u001b[43mxrot\u001b[49m\u001b[43m,\u001b[49m\n\u001b[1;32m    107\u001b[0m \u001b[43m    \u001b[49m\u001b[43mylabelsize\u001b[49m\u001b[38;5;241;43m=\u001b[39;49m\u001b[43mylabelsize\u001b[49m\u001b[43m,\u001b[49m\n\u001b[1;32m    108\u001b[0m \u001b[43m    \u001b[49m\u001b[43myrot\u001b[49m\u001b[38;5;241;43m=\u001b[39;49m\u001b[43myrot\u001b[49m\u001b[43m,\u001b[49m\n\u001b[1;32m    109\u001b[0m \u001b[43m    \u001b[49m\u001b[43mfigsize\u001b[49m\u001b[38;5;241;43m=\u001b[39;49m\u001b[43mfigsize\u001b[49m\u001b[43m,\u001b[49m\n\u001b[1;32m    110\u001b[0m \u001b[43m    \u001b[49m\u001b[43mbins\u001b[49m\u001b[38;5;241;43m=\u001b[39;49m\u001b[43mbins\u001b[49m\u001b[43m,\u001b[49m\n\u001b[1;32m    111\u001b[0m \u001b[43m    \u001b[49m\u001b[43mlegend\u001b[49m\u001b[38;5;241;43m=\u001b[39;49m\u001b[43mlegend\u001b[49m\u001b[43m,\u001b[49m\n\u001b[1;32m    112\u001b[0m \u001b[43m    \u001b[49m\u001b[38;5;241;43m*\u001b[39;49m\u001b[38;5;241;43m*\u001b[39;49m\u001b[43mkwargs\u001b[49m\u001b[43m,\u001b[49m\n\u001b[1;32m    113\u001b[0m \u001b[43m\u001b[49m\u001b[43m)\u001b[49m\n",
      "File \u001b[0;32m~/miniforge3/envs/p8/lib/python3.8/site-packages/pandas/plotting/_matplotlib/hist.py:391\u001b[0m, in \u001b[0;36mhist_series\u001b[0;34m(self, by, ax, grid, xlabelsize, xrot, ylabelsize, yrot, figsize, bins, legend, **kwds)\u001b[0m\n\u001b[1;32m    389\u001b[0m \u001b[38;5;28;01mif\u001b[39;00m legend:\n\u001b[1;32m    390\u001b[0m     kwds[\u001b[38;5;124m\"\u001b[39m\u001b[38;5;124mlabel\u001b[39m\u001b[38;5;124m\"\u001b[39m] \u001b[38;5;241m=\u001b[39m \u001b[38;5;28mself\u001b[39m\u001b[38;5;241m.\u001b[39mname\n\u001b[0;32m--> 391\u001b[0m \u001b[43max\u001b[49m\u001b[38;5;241;43m.\u001b[39;49m\u001b[43mhist\u001b[49m\u001b[43m(\u001b[49m\u001b[43mvalues\u001b[49m\u001b[43m,\u001b[49m\u001b[43m \u001b[49m\u001b[43mbins\u001b[49m\u001b[38;5;241;43m=\u001b[39;49m\u001b[43mbins\u001b[49m\u001b[43m,\u001b[49m\u001b[43m \u001b[49m\u001b[38;5;241;43m*\u001b[39;49m\u001b[38;5;241;43m*\u001b[39;49m\u001b[43mkwds\u001b[49m\u001b[43m)\u001b[49m\n\u001b[1;32m    392\u001b[0m \u001b[38;5;28;01mif\u001b[39;00m legend:\n\u001b[1;32m    393\u001b[0m     ax\u001b[38;5;241m.\u001b[39mlegend()\n",
      "File \u001b[0;32m~/miniforge3/envs/p8/lib/python3.8/site-packages/matplotlib/__init__.py:1412\u001b[0m, in \u001b[0;36m_preprocess_data.<locals>.inner\u001b[0;34m(ax, data, *args, **kwargs)\u001b[0m\n\u001b[1;32m   1409\u001b[0m \u001b[38;5;129m@functools\u001b[39m\u001b[38;5;241m.\u001b[39mwraps(func)\n\u001b[1;32m   1410\u001b[0m \u001b[38;5;28;01mdef\u001b[39;00m \u001b[38;5;21minner\u001b[39m(ax, \u001b[38;5;241m*\u001b[39margs, data\u001b[38;5;241m=\u001b[39m\u001b[38;5;28;01mNone\u001b[39;00m, \u001b[38;5;241m*\u001b[39m\u001b[38;5;241m*\u001b[39mkwargs):\n\u001b[1;32m   1411\u001b[0m     \u001b[38;5;28;01mif\u001b[39;00m data \u001b[38;5;129;01mis\u001b[39;00m \u001b[38;5;28;01mNone\u001b[39;00m:\n\u001b[0;32m-> 1412\u001b[0m         \u001b[38;5;28;01mreturn\u001b[39;00m \u001b[43mfunc\u001b[49m\u001b[43m(\u001b[49m\u001b[43max\u001b[49m\u001b[43m,\u001b[49m\u001b[43m \u001b[49m\u001b[38;5;241;43m*\u001b[39;49m\u001b[38;5;28;43mmap\u001b[39;49m\u001b[43m(\u001b[49m\u001b[43msanitize_sequence\u001b[49m\u001b[43m,\u001b[49m\u001b[43m \u001b[49m\u001b[43margs\u001b[49m\u001b[43m)\u001b[49m\u001b[43m,\u001b[49m\u001b[43m \u001b[49m\u001b[38;5;241;43m*\u001b[39;49m\u001b[38;5;241;43m*\u001b[39;49m\u001b[43mkwargs\u001b[49m\u001b[43m)\u001b[49m\n\u001b[1;32m   1414\u001b[0m     bound \u001b[38;5;241m=\u001b[39m new_sig\u001b[38;5;241m.\u001b[39mbind(ax, \u001b[38;5;241m*\u001b[39margs, \u001b[38;5;241m*\u001b[39m\u001b[38;5;241m*\u001b[39mkwargs)\n\u001b[1;32m   1415\u001b[0m     auto_label \u001b[38;5;241m=\u001b[39m (bound\u001b[38;5;241m.\u001b[39marguments\u001b[38;5;241m.\u001b[39mget(label_namer)\n\u001b[1;32m   1416\u001b[0m                   \u001b[38;5;129;01mor\u001b[39;00m bound\u001b[38;5;241m.\u001b[39mkwargs\u001b[38;5;241m.\u001b[39mget(label_namer))\n",
      "File \u001b[0;32m~/miniforge3/envs/p8/lib/python3.8/site-packages/matplotlib/axes/_axes.py:6639\u001b[0m, in \u001b[0;36mAxes.hist\u001b[0;34m(self, x, bins, range, density, weights, cumulative, bottom, histtype, align, orientation, rwidth, log, color, label, stacked, **kwargs)\u001b[0m\n\u001b[1;32m   6635\u001b[0m \u001b[38;5;66;03m# Loop through datasets\u001b[39;00m\n\u001b[1;32m   6636\u001b[0m \u001b[38;5;28;01mfor\u001b[39;00m i \u001b[38;5;129;01min\u001b[39;00m \u001b[38;5;28mrange\u001b[39m(nx):\n\u001b[1;32m   6637\u001b[0m     \u001b[38;5;66;03m# this will automatically overwrite bins,\u001b[39;00m\n\u001b[1;32m   6638\u001b[0m     \u001b[38;5;66;03m# so that each histogram uses the same bins\u001b[39;00m\n\u001b[0;32m-> 6639\u001b[0m     m, bins \u001b[38;5;241m=\u001b[39m \u001b[43mnp\u001b[49m\u001b[38;5;241;43m.\u001b[39;49m\u001b[43mhistogram\u001b[49m\u001b[43m(\u001b[49m\u001b[43mx\u001b[49m\u001b[43m[\u001b[49m\u001b[43mi\u001b[49m\u001b[43m]\u001b[49m\u001b[43m,\u001b[49m\u001b[43m \u001b[49m\u001b[43mbins\u001b[49m\u001b[43m,\u001b[49m\u001b[43m \u001b[49m\u001b[43mweights\u001b[49m\u001b[38;5;241;43m=\u001b[39;49m\u001b[43mw\u001b[49m\u001b[43m[\u001b[49m\u001b[43mi\u001b[49m\u001b[43m]\u001b[49m\u001b[43m,\u001b[49m\u001b[43m \u001b[49m\u001b[38;5;241;43m*\u001b[39;49m\u001b[38;5;241;43m*\u001b[39;49m\u001b[43mhist_kwargs\u001b[49m\u001b[43m)\u001b[49m\n\u001b[1;32m   6640\u001b[0m     tops\u001b[38;5;241m.\u001b[39mappend(m)\n\u001b[1;32m   6641\u001b[0m tops \u001b[38;5;241m=\u001b[39m np\u001b[38;5;241m.\u001b[39marray(tops, \u001b[38;5;28mfloat\u001b[39m)  \u001b[38;5;66;03m# causes problems later if it's an int\u001b[39;00m\n",
      "File \u001b[0;32m<__array_function__ internals>:180\u001b[0m, in \u001b[0;36mhistogram\u001b[0;34m(*args, **kwargs)\u001b[0m\n",
      "File \u001b[0;32m~/miniforge3/envs/p8/lib/python3.8/site-packages/numpy/lib/histograms.py:878\u001b[0m, in \u001b[0;36mhistogram\u001b[0;34m(a, bins, range, normed, weights, density)\u001b[0m\n\u001b[1;32m    876\u001b[0m \u001b[38;5;28;01mif\u001b[39;00m weights \u001b[38;5;129;01mis\u001b[39;00m \u001b[38;5;28;01mNone\u001b[39;00m:\n\u001b[1;32m    877\u001b[0m     \u001b[38;5;28;01mfor\u001b[39;00m i \u001b[38;5;129;01min\u001b[39;00m _range(\u001b[38;5;241m0\u001b[39m, \u001b[38;5;28mlen\u001b[39m(a), BLOCK):\n\u001b[0;32m--> 878\u001b[0m         sa \u001b[38;5;241m=\u001b[39m \u001b[43mnp\u001b[49m\u001b[38;5;241;43m.\u001b[39;49m\u001b[43msort\u001b[49m\u001b[43m(\u001b[49m\u001b[43ma\u001b[49m\u001b[43m[\u001b[49m\u001b[43mi\u001b[49m\u001b[43m:\u001b[49m\u001b[43mi\u001b[49m\u001b[38;5;241;43m+\u001b[39;49m\u001b[43mBLOCK\u001b[49m\u001b[43m]\u001b[49m\u001b[43m)\u001b[49m\n\u001b[1;32m    879\u001b[0m         cum_n \u001b[38;5;241m+\u001b[39m\u001b[38;5;241m=\u001b[39m _search_sorted_inclusive(sa, bin_edges)\n\u001b[1;32m    880\u001b[0m \u001b[38;5;28;01melse\u001b[39;00m:\n",
      "File \u001b[0;32m<__array_function__ internals>:180\u001b[0m, in \u001b[0;36msort\u001b[0;34m(*args, **kwargs)\u001b[0m\n",
      "File \u001b[0;32m~/miniforge3/envs/p8/lib/python3.8/site-packages/numpy/core/fromnumeric.py:1003\u001b[0m, in \u001b[0;36msort\u001b[0;34m(a, axis, kind, order)\u001b[0m\n\u001b[1;32m   1001\u001b[0m     axis \u001b[38;5;241m=\u001b[39m \u001b[38;5;241m-\u001b[39m\u001b[38;5;241m1\u001b[39m\n\u001b[1;32m   1002\u001b[0m \u001b[38;5;28;01melse\u001b[39;00m:\n\u001b[0;32m-> 1003\u001b[0m     a \u001b[38;5;241m=\u001b[39m \u001b[43masanyarray\u001b[49m\u001b[43m(\u001b[49m\u001b[43ma\u001b[49m\u001b[43m)\u001b[49m\u001b[38;5;241;43m.\u001b[39;49m\u001b[43mcopy\u001b[49m\u001b[43m(\u001b[49m\u001b[43morder\u001b[49m\u001b[38;5;241;43m=\u001b[39;49m\u001b[38;5;124;43m\"\u001b[39;49m\u001b[38;5;124;43mK\u001b[39;49m\u001b[38;5;124;43m\"\u001b[39;49m\u001b[43m)\u001b[49m\n\u001b[1;32m   1004\u001b[0m a\u001b[38;5;241m.\u001b[39msort(axis\u001b[38;5;241m=\u001b[39maxis, kind\u001b[38;5;241m=\u001b[39mkind, order\u001b[38;5;241m=\u001b[39morder)\n\u001b[1;32m   1005\u001b[0m \u001b[38;5;28;01mreturn\u001b[39;00m a\n",
      "\u001b[0;31mKeyboardInterrupt\u001b[0m: "
     ]
    },
    {
     "data": {
      "image/png": "[encoded data removed]",
      "text/plain": [
       "<Figure size 432x288 with 1 Axes>"
      ]
     },
     "metadata": {
      "needs_background": "light"
     },
     "output_type": "display_data"
    }
   ],
   "source": [
    "%%time\n",
    "plt.figure(figsize=(15,6))\n",
    "df.session_start.apply(lambda x: time.localtime(x//1000)[1:3]).hist()"
   ]
  },
  {
   "cell_type": "code",
   "execution_count": null,
   "id": "31f072b4",
   "metadata": {},
   "outputs": [],
   "source": [
    ".apply(lambda x: time.localtime(x//1000)[0]).hist()"
   ]
  },
  {
   "cell_type": "code",
   "execution_count": 76,
   "id": "edd8975a",
   "metadata": {},
   "outputs": [
    {
     "data": {
      "text/plain": [
       "160974    37213\n",
       "272143    28943\n",
       "336221    23851\n",
       "234698    23499\n",
       "123909    23122\n",
       "          ...  \n",
       "283269        1\n",
       "329065        1\n",
       "38473         1\n",
       "289316        1\n",
       "164517        1\n",
       "Name: click_article_id, Length: 46033, dtype: int64"
      ]
     },
     "execution_count": 76,
     "metadata": {},
     "output_type": "execute_result"
    }
   ],
   "source": [
    "df.click_article_id.value_counts()"
   ]
  },
  {
   "cell_type": "code",
   "execution_count": 94,
   "id": "cfe0b0f7",
   "metadata": {},
   "outputs": [
    {
     "data": {
      "image/png": "[encoded data removed]",
      "text/plain": [
       "<Figure size 1080x432 with 1 Axes>"
      ]
     },
     "metadata": {
      "needs_background": "light"
     },
     "output_type": "display_data"
    },
    {
     "name": "stdout",
     "output_type": "stream",
     "text": [
      "CPU times: user 1.72 s, sys: 57.9 ms, total: 1.78 s\n",
      "Wall time: 1.69 s\n"
     ]
    }
   ],
   "source": [
    "%%time\n",
    "plt.figure(figsize=(15,6))\n",
    "df.click_timestamp.apply(lambda x: time.localtime(x//1000)[3]).hist(bins=16)\n",
    "plt.show()"
   ]
  },
  {
   "cell_type": "code",
   "execution_count": 93,
   "id": "03ba2025",
   "metadata": {},
   "outputs": [
    {
     "data": {
      "text/plain": [
       "13    211426\n",
       "18    202832\n",
       "19    188460\n",
       "17    187703\n",
       "20    180040\n",
       "21    178182\n",
       "16    175951\n",
       "14    175914\n",
       "15    172401\n",
       "22    164333\n",
       "12    156192\n",
       "23    146355\n",
       "0     137130\n",
       "1     129286\n",
       "2     123990\n",
       "3     114515\n",
       "4      87123\n",
       "11     84574\n",
       "5      55546\n",
       "10     37621\n",
       "6      29167\n",
       "9      17467\n",
       "7      17371\n",
       "8      14602\n",
       "Name: session_start, dtype: int64"
      ]
     },
     "execution_count": 93,
     "metadata": {},
     "output_type": "execute_result"
    }
   ],
   "source": [
    "df.session_start.apply(lambda x: time.localtime(x//1000)[3]).value_counts()"
   ]
  },
  {
   "cell_type": "code",
   "execution_count": null,
   "id": "6b77fb56",
   "metadata": {},
   "outputs": [],
   "source": []
  },
  {
   "cell_type": "markdown",
   "id": "b3c2bf5d",
   "metadata": {},
   "source": [
    "# Systmèe de recommandation : Content-Based Filtering\n",
    "\n",
    "## Recommandation en fonction de l'ensemble de lécture de l'utilisateur"
   ]
  },
  {
   "cell_type": "code",
   "execution_count": 21,
   "id": "6f1861d2",
   "metadata": {},
   "outputs": [],
   "source": [
    "%%time\n",
    "import time\n",
    "from scipy import spatial\n",
    "\n",
    "def content_recommandation(df_article_by_user, user_id):\n",
    "    cosine_similarity = spatial.distance.cosine\n",
    "    df_1 = pd.read_csv('./news-portal-user-interactions-by-globocom/articles_metadata.csv')\n",
    "    \n",
    "    # Récupération de la liste des articles lus par l'utilisateur\n",
    "    arts = df_article_by_user.iloc[user_id].values[0]\n",
    "    \n",
    "    \n",
    "    # Liste des catégories lus par l'utilisateur\n",
    "    list_art=np.array(list(set([df_1.iloc[arts[n]].category_id for n in range(len(arts))])))\n",
    "    \n",
    "    # Sélection des articles ayant les mêmes catégories d'article déja lus\n",
    "    selection = df_1[df_1.category_id.isin(list_art)]\n",
    "   # Retrai des article déja lus\n",
    "    selection_ = selection[~df_1[df_1.category_id.isin(list_art)].article_id.isin(arts)]\n",
    "    \n",
    "    # Sélection des article en fonction du cosinus_simylarity\n",
    "    cos = []\n",
    "    for article in arts:\n",
    "        for art in selection_.article_id:\n",
    "            cos.append([article, art, cosine_similarity(articles[art].reshape(-1, 1), articles[article].reshape(-1, 1))])\n",
    "\n",
    "    #Sélection de 5 articles en fonction des valeurs minimum de cos_similarity\n",
    "    recommandation = []\n",
    "    for n in range(5):\n",
    "        recommandation.append(cos[np.array(cos)[:,2].argmin()])\n",
    "        cos.remove(cos[np.array(cos)[:,2].argmin()])\n",
    "\n",
    "    return np.array(recommandation)[:,1]"
   ]
  },
  {
   "cell_type": "code",
   "execution_count": 260,
   "id": "8efcf1b2",
   "metadata": {},
   "outputs": [
    {
     "name": "stdout",
     "output_type": "stream",
     "text": [
      "CPU times: user 6.99 s, sys: 67.2 ms, total: 7.06 s\n",
      "Wall time: 7.06 s\n"
     ]
    },
    {
     "data": {
      "text/plain": [
       "array([157514., 159284.,  92427., 157555., 162369.])"
      ]
     },
     "execution_count": 260,
     "metadata": {},
     "output_type": "execute_result"
    }
   ],
   "source": [
    "%%time\n",
    "content_recommandation(df_article_by_user, 0)"
   ]
  },
  {
   "cell_type": "markdown",
   "id": "52caaaaf",
   "metadata": {},
   "source": [
    "## Recommandation en fonction du dernier article lu par l'utilisateur"
   ]
  },
  {
   "cell_type": "code",
   "execution_count": 331,
   "id": "5086f629",
   "metadata": {},
   "outputs": [
    {
     "name": "stdout",
     "output_type": "stream",
     "text": [
      "CPU times: user 1.48 s, sys: 100 ms, total: 1.58 s\n",
      "Wall time: 1.61 s\n"
     ]
    }
   ],
   "source": [
    "%%time\n",
    "df['day'] = df.click_timestamp.apply(lambda x: time.localtime(x//1000)[2:5])\n",
    "\n",
    "\n",
    "def recomndtions(user_id, df):\n",
    "    cosine_similarity = spatial.distance.cosine\n",
    "    #df_1 = pd.read_csv('./news-portal-user-interactions-by-globocom/articles_metadata.csv')\n",
    "    # Sélection du dernier article lu par l'utilisateur\n",
    "    df_temp = df[df.user_id == user_id][['click_article_id', 'day']]\n",
    "    last_article_day = df_temp.day.max()\n",
    "    last_article = df_temp[df_temp.day == last_article_day].click_article_id.values[0]\n",
    "\n",
    "    # Liste des articles déja lue\n",
    "    articles_read = df_temp.click_article_id.values\n",
    "\n",
    "    # Dernier Article sous forme embeding lu par l'utilisateur\n",
    "    last_read = articles[last_article]\n",
    "\n",
    "    # Liste des catégorie lu par l'utilisateur\n",
    "    list_caté_read = np.array(list(set([df_1.iloc[articles_read[n]].category_id \n",
    "                                        for n in range(len(articles_read))])))\n",
    "\n",
    "    # Sélection des articles ayant les mêmes catégories que ceux lus par l'utilisateur\n",
    "    selection = df_1[df_1.category_id.isin(list_caté_read)]\n",
    "\n",
    "    # Retrait des articles déja lu par l'utilisateur\n",
    "    selection_ = selection[~df_1[df_1.category_id.isin(list_caté_read)].article_id.isin(\n",
    "        articles_read)].article_id.values\n",
    "\n",
    "    score = [cosine_similarity(last_read, art) for art in articles[selection_]]\n",
    "\n",
    "\n",
    "\n",
    "    recommandation = []\n",
    "    for n in range(5):\n",
    "        recommandation.append(np.array(score).argmin())\n",
    "        score.pop(np.array(score).argmin())\n",
    "\n",
    "    return recommandation"
   ]
  },
  {
   "cell_type": "code",
   "execution_count": 332,
   "id": "8ebdea6a",
   "metadata": {},
   "outputs": [
    {
     "name": "stdout",
     "output_type": "stream",
     "text": [
      "CPU times: user 2.36 s, sys: 18.4 ms, total: 2.37 s\n",
      "Wall time: 2.37 s\n"
     ]
    },
    {
     "data": {
      "text/plain": [
       "[14829, 13133, 14944, 15836, 12622]"
      ]
     },
     "execution_count": 332,
     "metadata": {},
     "output_type": "execute_result"
    }
   ],
   "source": [
    "%%time\n",
    "recomndtions(8, df)"
   ]
  },
  {
   "cell_type": "markdown",
   "id": "15d413b4",
   "metadata": {},
   "source": [
    "# Systmèe de recommandation : Collaborative Filtering"
   ]
  },
  {
   "cell_type": "code",
   "execution_count": 1,
   "id": "191975ce",
   "metadata": {},
   "outputs": [
    {
     "name": "stdout",
     "output_type": "stream",
     "text": [
      "CPU times: user 39.4 s, sys: 15.1 s, total: 54.5 s\n",
      "Wall time: 53.4 s\n"
     ]
    }
   ],
   "source": [
    "%%time\n",
    "import os\n",
    "import pandas as pd\n",
    "import numpy as np\n",
    "\n",
    "import scipy.sparse as sparse\n",
    "import implicit\n",
    "import collections\n",
    "Counter = collections.Counter\n",
    "\n",
    "path_dir = './news-portal-user-interactions-by-globocom/clicks/'\n",
    "lisdir = os.listdir(path_dir)\n",
    "\n",
    "\n",
    "df = pd.DataFrame()\n",
    "for file in lisdir:\n",
    "    df = pd.concat([df,pd.read_csv(path_dir+file)])\n",
    "    \n",
    "df = df.reset_index() \n",
    "\n",
    "df_1 = pd.read_csv('./news-portal-user-interactions-by-globocom/articles_metadata.csv')\n",
    "\n",
    "df_2 = pd.read_csv('./news-portal-user-interactions-by-globocom/clicks_sample.csv')\n",
    "\n",
    "\n",
    "df_article_by_user = df.groupby('user_id').agg(\n",
    "    LIST_click_article_id = ('click_article_id', lambda x: list(x)),\n",
    ")\n",
    "\n",
    "df_article_by_user['n_click'] = df.groupby('user_id')['session_size'].sum().values\n",
    "df_article_by_user\n",
    "\n",
    "df_user = pd.read_csv('UI/utiles/df_user.csv')\n",
    "#df_article_by_user.to_csv('UI/utiles/df_user.csv')"
   ]
  },
  {
   "cell_type": "code",
   "execution_count": 167,
   "id": "d845af41",
   "metadata": {},
   "outputs": [],
   "source": [
    "df_article_by_user['n_click'] = df.groupby('user_id')['session_size'].sum().values\n",
    "\n",
    "\n",
    "df_article_by_user.to_csv('UI/utiles/df_user.csv')\n",
    "\n",
    "df_user = pd.read_csv('UI/utiles/df_user.csv')\n"
   ]
  },
  {
   "cell_type": "code",
   "execution_count": 161,
   "id": "244ccd78",
   "metadata": {},
   "outputs": [],
   "source": [
    "np.save('UI/utiles/df_user', df_article_by_user.values)\n",
    "np.save('test.np',df_article_by_user.LIST_click_article_id.values, )\n",
    "df_article_by_user.to_csv('UI/utiles/df_user.csv')"
   ]
  },
  {
   "cell_type": "code",
   "execution_count": 526,
   "id": "063dbdab",
   "metadata": {},
   "outputs": [
    {
     "name": "stdout",
     "output_type": "stream",
     "text": [
      "CPU times: user 19 µs, sys: 10 µs, total: 29 µs\n",
      "Wall time: 34.1 µs\n"
     ]
    }
   ],
   "source": [
    "%%time\n",
    "\n",
    "#V1\n",
    "# TFIDF des article lus en fonction des utilisateurs\n",
    "\n",
    "def pars_matrice(df, articles, catégories, n_user=False, tfidf=False):\n",
    "    \"\"\"\n",
    "    df : Dataframe['User_id', 'List_click_article']\n",
    "    \n",
    "    articles : array of all articles\n",
    "    \n",
    "    catégories : array of category by article\n",
    "    \n",
    "    n_user : int. Number of user in sparsMatrice\n",
    "    \n",
    "    \"\"\"\n",
    "    \n",
    "    n_click = df.n_click.values\n",
    "    if n_user==True:n_user = len(df)\n",
    "        \n",
    "    print(n_user)\n",
    "    # TFIDF des article lus en fonction des utilisateurs\n",
    "    user_tfidf = [np.isin(articles, \n",
    "                      df.LIST_click_article_id.values[n])\n",
    "                       for n in range(n_user)]\n",
    "\n",
    "    user_tfidf = np.array(user_tfidf)\n",
    "    \n",
    "    print(True,1)\n",
    "    # Catégorie des articles lus\n",
    "    user_tfidf = np.array([catégories * user_tfidf[n] for n in range(len(user_tfidf))])\n",
    "    \n",
    "    print(True,2)\n",
    "    # Dictionnaire du nombre d'article lu par catégorie\n",
    "    d = [Counter(user_tfidf[n]) for n in range(len(user_tfidf))]\n",
    "    \n",
    "    print(True,3)\n",
    "    # Ajouts du nombre d'article lu dans la catégorie de l'article\n",
    "    tfidf_ = [np.array([u for u in map(lambda x: d[n][x] if x != 0 else 0, user_tfidf[n])]) \n",
    "          for n in range(len(user_tfidf))]\n",
    "    \n",
    "    \n",
    "    tfidf_ = [tfidf_[n]/n_click[n] for n in range(n_user)]\n",
    "    print(True, 4)\n",
    "    if tfidf:return np.array(tfidf_)\n",
    "    return sparse.csr_matrix(np.array(tfidf_))\n",
    "\n",
    "\n",
    "\n",
    "%%time\n",
    "article_id = df_1.article_id.values\n",
    "category_id = df_1.category_id.values\n",
    "\n",
    "trainset = pars_matrice(df_article_by_user, article_id, category_id,n_user=50)"
   ]
  },
  {
   "cell_type": "code",
   "execution_count": null,
   "id": "793e3017",
   "metadata": {},
   "outputs": [],
   "source": [
    "%%time\n",
    "\n",
    "def train_model(trainset):\n",
    "    model = implicit.als.AlternatingLeastSquares(factors=100,iterations=200,regularization=0.1)\n",
    "    \n",
    "    model.fit(user_items=trainset)\n",
    "    \n",
    "    return model\n",
    "\n",
    "\n",
    "def predict(user_id, model, trainset):\n",
    "    \n",
    "    model.recommend(user_id, trainset[user_id])[0].tolist()\n",
    "    \n",
    "    \n",
    "\n",
    "# TFIDF des article lus en fonction des utilisateurs\n",
    "\n",
    "def pars_matrice(df, articles, n_user):\n",
    "user_tfidf = [np.isin(df_1.article_id.values, \n",
    "                      df_article_by_user.LIST_click_article_id.values[n])\n",
    "                       for n in range(3000)]\n",
    "\n",
    "user_tfidf = np.array(user_tfidf)"
   ]
  },
  {
   "cell_type": "code",
   "execution_count": 7,
   "id": "31c7fb74",
   "metadata": {},
   "outputs": [],
   "source": [
    "#V2\n",
    "\n",
    "class Model():\n",
    "    def __init__(self, df, articles, catégories, n_user=True):\n",
    "        \"\"\"\n",
    "        df : Dataframe['User_id', 'List_click_article']\n",
    "\n",
    "        articles : array of all articles\n",
    "\n",
    "        catégories : array of category by article\n",
    "\n",
    "        n_user : int. Number of user in sparsMatrice\n",
    "\n",
    "        \"\"\"\n",
    "        self.df = df\n",
    "        self.articles = articles\n",
    "        self.catégories = catégories\n",
    "        self.n_user = n_user\n",
    "    \n",
    "    def pars_matrice(self):\n",
    "        df = self.df\n",
    "        articles = self.articles\n",
    "        catégories = self.catégories\n",
    "        n_user = self.n_user\n",
    "        \n",
    "        if n_user==True:n_user = len(df)\n",
    "\n",
    "        print(n_user)\n",
    "        # TFIDF des article lus en fonction des utilisateurs\n",
    "        user_tfidf = [np.isin(articles, \n",
    "                          df.LIST_click_article_id.values[n])\n",
    "                           for n in range(n_user)]\n",
    "\n",
    "        user_tfidf = np.array(user_tfidf)\n",
    "\n",
    "        print(True,1)\n",
    "        # Catégorie des articles lus\n",
    "        user_tfidf = np.array([catégories * user_tfidf[n] for n in range(len(user_tfidf))])\n",
    "\n",
    "        print(True,2)\n",
    "        # Dictionnaire du nombre d'article lu par catégorie\n",
    "        d = [Counter(user_tfidf[n]) for n in range(len(user_tfidf))]\n",
    "\n",
    "        print(True,3)\n",
    "        # Ajouts du nombre d'article lu dans la catégorie de l'article\n",
    "        tfidf_ = [np.array([u for u in map(lambda x: d[n][x] if x != 0 else 0, user_tfidf[n])]) \n",
    "              for n in range(len(user_tfidf))]\n",
    "\n",
    "        print(True, 4)\n",
    "        \n",
    "        self.tfidf = np.array(tfidf_)\n",
    "        self.sparse = sparse.csr_matrix(np.array(tfidf_))    \n",
    "        return self\n",
    "    \n",
    "    \n",
    "    def train_model(self,trainset):\n",
    "        self.model = implicit.als.AlternatingLeastSquares(factors=100,iterations=200,regularization=0.1)\n",
    "        self.model.fit(user_items=trainset)\n",
    "        return self\n",
    "    \n",
    "    def predict(self, user_id):\n",
    "        return self.model.recommend(user_id, self.sparse[user_id])[0].tolist()\n",
    "    \n",
    "    def add_article(self, id_, catégorie_id):\n",
    "        self.articles = np.append(self.articles, id_)\n",
    "        self.catégories = np.append(self.catégories, catégorie_id)\n",
    "        \n",
    "    def add_user(self, user_id, article_read):\n",
    "        self.df = sf.df.append(pd.DataFrame(data = {'LIST_click_article_id':[article_read]}, \n",
    "                                            index=[user_id]))\n",
    "        "
   ]
  },
  {
   "cell_type": "code",
   "execution_count": 10,
   "id": "24c86472",
   "metadata": {},
   "outputs": [
    {
     "name": "stdout",
     "output_type": "stream",
     "text": [
      "500\n",
      "True 1\n",
      "True 2\n",
      "True 3\n",
      "True 4\n",
      "CPU times: user 46.5 s, sys: 1.25 s, total: 47.7 s\n",
      "Wall time: 47.7 s\n"
     ]
    }
   ],
   "source": [
    "%%time\n",
    "article_id = df_1.article_id.values\n",
    "category_id = df_1.category_id.values\n",
    "recomandation = Model(df_article_by_user, article_id, category_id,n_user=500).pars_matrice()"
   ]
  },
  {
   "cell_type": "code",
   "execution_count": 1,
   "id": "a6864e7f",
   "metadata": {},
   "outputs": [
    {
     "name": "stdout",
     "output_type": "stream",
     "text": [
      "CPU times: user 28.3 s, sys: 10.3 s, total: 38.6 s\n",
      "Wall time: 36.4 s\n"
     ]
    }
   ],
   "source": [
    "%%time\n",
    "import os\n",
    "import pandas as pd\n",
    "import numpy as np\n",
    "\n",
    "import scipy.sparse as sparse\n",
    "import implicit\n",
    "import collections\n",
    "\n",
    "Counter = collections.Counter\n",
    "\n",
    "path_dir = './news-portal-user-interactions-by-globocom/clicks/'\n",
    "lisdir = os.listdir(path_dir)\n",
    "\n",
    "\n",
    "df = pd.DataFrame()\n",
    "for file in lisdir:\n",
    "    df = pd.concat([df,pd.read_csv(path_dir+file)])\n",
    "    \n",
    "df = df.reset_index() \n",
    "\n",
    "df_1 = pd.read_csv('./news-portal-user-interactions-by-globocom/articles_metadata.csv')\n",
    "\n",
    "df_2 = pd.read_csv('./news-portal-user-interactions-by-globocom/clicks_sample.csv')\n",
    "\n",
    "\n",
    "df_article_by_user = df.groupby('user_id').agg(\n",
    "    LIST_click_article_id = ('click_article_id', lambda x: list(x)),\n",
    ")\n",
    "\n",
    "df_article_by_user['n_click'] = df.groupby('user_id')['session_size'].sum().values"
   ]
  },
  {
   "cell_type": "code",
   "execution_count": 8,
   "id": "49a01662",
   "metadata": {},
   "outputs": [],
   "source": [
    "#V3\n",
    "import pandas as pd\n",
    "import numpy as np\n",
    "\n",
    "import scipy\n",
    "import scipy.sparse as sparce\n",
    "import pickle\n",
    "\n",
    "import scipy.sparse\n",
    "import implicit\n",
    "import collections\n",
    "\n",
    "import os\n",
    "\n",
    "from azureml.core import Workspace, Datastore, Dataset\n",
    "from azureml.data.datapath import DataPath\n",
    "\n",
    "\n",
    "class My_Class():\n",
    "    def __init__(self):\n",
    "        self.ws = Workspace(subscription_id=\"d5bb9744-4790-446f-b7e1-591e22995cc7\",\n",
    "               resource_group=\"OpenClassrooms\",\n",
    "               workspace_name=\"OC_IA\")\n",
    "\n",
    "        self.datastore = Datastore.get(self.ws, 'workspaceblobstore')\n",
    "        [os.remove(f\"UI/utiles/{file}\") for file in os.listdir('UI/utiles/')]\n",
    "        self.datastore.download(target_path='.', prefix='UI/utiles')\n",
    "        \n",
    "    def add_user(self, user_id, article_read, n_click, publish=False):\n",
    "        df = pd.read_csv('UI/utiles/df_user.csv')\n",
    "        df = df.append(pd.DataFrame(data = {'LIST_click_article_id':[article_read],\n",
    "                                                'n_click' : n_click\n",
    "                                                }, \n",
    "                                            index=[user_id]))\n",
    "        \n",
    "    def add_article(self, id_, catégorie_id, publish=False):\n",
    "        df_article = pd.read_csv('UI/utiles/df_article.csv',index_col='Unnamed: 0')\n",
    "        df_article = df_article.append(pd.DataFrame(data = {'article_id':id_,\n",
    "                                       'category_id':catégorie_id},\n",
    "                               index=[id_]))\n",
    "        \n",
    "    def to_publish(self):\n",
    "        \n",
    "        for file in os.listdir('UI/utiles/'):\n",
    "            try :\n",
    "                self.datastore.blob_service.delete_blob('azureml-blobstore-f8554f92-a33d-430c-a1ff-4d9a166c55fc',\n",
    "                                      f'UI/utiles/{file}')\n",
    "            except:\n",
    "                pass\n",
    "        Dataset.File.upload_directory(src_dir='UI/utiles/',\n",
    "                   target=DataPath(self.datastore, 'UI/utiles/'),\n",
    "                   show_progress=True)\n",
    "        \n",
    "        print('Published on Azure Blob Storage')\n",
    "        \n",
    "    \n",
    "    def sparse(self, n_user=True, publish=False, train=False):\n",
    "        \n",
    "        df = pd.DataFrame(np.load('UI/utiles/df_user.npy', allow_pickle=True), \n",
    "                          columns=['LIST_click_article_id', 'n_click'])\n",
    "        df_article = pd.read_csv('UI/utiles/df_article.csv',index_col='Unnamed: 0')\n",
    "        n_click = df.n_click.values\n",
    "        articles = df_article.article_id\n",
    "        categories = df_article.category_id\n",
    "        n_user = n_user\n",
    "        \n",
    "        if n_user==True:n_user = len(df)\n",
    "\n",
    "        # TFIDF des article lus en fonction des utilisateurs\n",
    "        user_tfidf = [np.isin(articles, \n",
    "                          df.LIST_click_article_id.values[n])\n",
    "                           for n in range(n_user)]\n",
    "\n",
    "        user_tfidf = np.array(user_tfidf)\n",
    "\n",
    "        # Catégorie des articles lus\n",
    "        user_tfidf = np.array([categories * user_tfidf[n] \n",
    "                               for n in range(len(user_tfidf))])\n",
    "\n",
    "        # Dictionnaire du nombre d'article lu par catégorie\n",
    "        d = [Counter(user_tfidf[n]) for n in range(len(user_tfidf))]\n",
    "        print('Parsing...')\n",
    "\n",
    "        # Ajouts du nombre d'article lu dans la catégorie de l'article\n",
    "        tfidf_ = [np.array([u for u in map(lambda x: d[n][x] if x != 0 else 0, \n",
    "                                           user_tfidf[n])])/n_click[n]\n",
    "              for n in range(len(user_tfidf))]\n",
    "        \n",
    "        \n",
    "        sparse_ = scipy.sparse.csc_matrix(np.array(tfidf_))\n",
    "        scipy.sparse.save_npz('UI/utiles/sparse.npz', sparse_)\n",
    "        print('Save !')\n",
    "        if train:\n",
    "            print('Train')\n",
    "            self.train_model()\n",
    "        \n",
    "        if publish:\n",
    "            self.to_publish()\n",
    "        \n",
    "    \n",
    "    def train_model(self, publish=False):\n",
    "        sparse_ = scipy.sparse.load_npz('UI/utiles/sparse.npz')\n",
    "        self.model = implicit.als.AlternatingLeastSquares(factors=100,iterations=200,regularization=0.1)\n",
    "        self.model.fit(sparse_)\n",
    "        print('model trained successfuly')\n",
    "        \n",
    "        with open('UI/utiles/model.pkl', 'wb') as f1:\n",
    "            pickle.dump(self.model, f1)\n",
    "            print('model save !')\n",
    "            \n",
    "        if publish:\n",
    "            self.to_publish()\n",
    "            \n",
    "    def predict(self, user_id):\n",
    "        sparse_ = sparse.csr_matrix(scipy.sparse.load_npz('UI/utiles/sparse.npz'))\n",
    "        return list(self.model.recommend(user_id, sparse_[user_id], 5)[0])"
   ]
  },
  {
   "cell_type": "code",
   "execution_count": 9,
   "id": "1ee92cf9",
   "metadata": {},
   "outputs": [
    {
     "name": "stdout",
     "output_type": "stream",
     "text": [
      "Downloading UI/utiles/sparse.npz\n",
      "Downloaded UI/utiles/sparse.npz, 1 files out of an estimated total of 5\n",
      "Downloading UI/utiles/df_article.csv\n",
      "Downloaded UI/utiles/df_article.csv, 2 files out of an estimated total of 5\n",
      "Downloading UI/utiles/df_user.npy\n",
      "Downloaded UI/utiles/df_user.npy, 3 files out of an estimated total of 5\n",
      "Downloading UI/utiles/df_user.csv\n",
      "Downloaded UI/utiles/df_user.csv, 4 files out of an estimated total of 5\n",
      "Downloading UI/utiles/model.pkl\n",
      "Downloaded UI/utiles/model.pkl, 5 files out of an estimated total of 5\n"
     ]
    }
   ],
   "source": [
    "recomandation = My_Class()"
   ]
  },
  {
   "cell_type": "code",
   "execution_count": 37,
   "id": "11a05920",
   "metadata": {},
   "outputs": [
    {
     "name": "stdout",
     "output_type": "stream",
     "text": [
      "50\n",
      "True\n",
      "48.748284107635804\n",
      "CPU times: user 5.02 s, sys: 204 ms, total: 5.23 s\n",
      "Wall time: 5.22 s\n"
     ]
    }
   ],
   "source": [
    "%%time\n",
    "recomandation.sparse(50)"
   ]
  },
  {
   "cell_type": "code",
   "execution_count": 12,
   "id": "92470921",
   "metadata": {},
   "outputs": [
    {
     "name": "stderr",
     "output_type": "stream",
     "text": [
      "/Users/kevinduranty/app/lib/python3.7/site-packages/implicit/utils.py:27: UserWarning: OpenBLAS detected. Its highly recommend to set the environment variable 'export OPENBLAS_NUM_THREADS=1' to disable its internal multithreading\n",
      "  \"OpenBLAS detected. Its highly recommend to set the environment variable \"\n"
     ]
    },
    {
     "data": {
      "application/vnd.jupyter.widget-view+json": {
       "model_id": "40b03b445c2a45419a567192c7a69f98",
       "version_major": 2,
       "version_minor": 0
      },
      "text/plain": [
       "  0%|          | 0/200 [00:00<?, ?it/s]"
      ]
     },
     "metadata": {},
     "output_type": "display_data"
    },
    {
     "name": "stdout",
     "output_type": "stream",
     "text": [
      "model trained successfuly\n",
      "model save !\n"
     ]
    }
   ],
   "source": [
    "recomandation.train_model()"
   ]
  },
  {
   "cell_type": "code",
   "execution_count": 14,
   "id": "85fcec9c",
   "metadata": {},
   "outputs": [
    {
     "data": {
      "text/plain": [
       "[4, 3, 2, 1, 0]"
      ]
     },
     "execution_count": 14,
     "metadata": {},
     "output_type": "execute_result"
    }
   ],
   "source": [
    "import scipy.sparse as sparse\n",
    "recomandation.predict(5)"
   ]
  },
  {
   "cell_type": "code",
   "execution_count": 15,
   "id": "1a0abdc3",
   "metadata": {},
   "outputs": [
    {
     "name": "stdout",
     "output_type": "stream",
     "text": [
      "Validating arguments.\n",
      "Arguments validated.\n",
      "Uploading file to UI/utiles/\n",
      "Uploading an estimated of 4 files\n",
      "Uploading UI/utiles/sparse.npz\n",
      "Uploaded UI/utiles/sparse.npz, 1 files out of an estimated total of 4\n",
      "Uploading UI/utiles/df_article.csv\n",
      "Uploaded UI/utiles/df_article.csv, 2 files out of an estimated total of 4\n",
      "Uploading UI/utiles/df_user.npy\n",
      "Uploaded UI/utiles/df_user.npy, 3 files out of an estimated total of 4\n",
      "Uploading UI/utiles/model.pkl\n",
      "Uploaded UI/utiles/model.pkl, 4 files out of an estimated total of 4\n",
      "Uploaded 4 files\n",
      "Creating new dataset\n",
      "Published on Azure Blob Storage\n"
     ]
    }
   ],
   "source": [
    "recomandation.to_publish()"
   ]
  }
 ],
 "metadata": {
  "kernelspec": {
   "display_name": "Python 3 (ipykernel)",
   "language": "python",
   "name": "python3"
  },
  "language_info": {
   "codemirror_mode": {
    "name": "ipython",
    "version": 3
   },
   "file_extension": ".py",
   "mimetype": "text/x-python",
   "name": "python",
   "nbconvert_exporter": "python",
   "pygments_lexer": "ipython3",
   "version": "3.8.12"
  },
  "toc": {
   "base_numbering": 1,
   "nav_menu": {},
   "number_sections": true,
   "sideBar": true,
   "skip_h1_title": false,
   "title_cell": "Table of Contents",
   "title_sidebar": "Contents",
   "toc_cell": false,
   "toc_position": {
    "height": "calc(100% - 180px)",
    "left": "10px",
    "top": "150px",
    "width": "238.391px"
   },
   "toc_section_display": true,
   "toc_window_display": true
  }
 },
 "nbformat": 4,
 "nbformat_minor": 5
}
